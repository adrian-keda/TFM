{
 "cells": [
  {
   "attachments": {},
   "cell_type": "markdown",
   "id": "273e7a7a-2bd0-4a52-9613-ae107136aa79",
   "metadata": {},
   "source": [
    "#### Import packages and define functions"
   ]
  },
  {
   "cell_type": "code",
   "execution_count": 77,
   "id": "3561bf2a-1776-46e8-9cbd-9e81735e7923",
   "metadata": {},
   "outputs": [],
   "source": [
    "import numpy as np\n",
    "import pandas as pd\n",
    "import sklearn\n",
    "import os\n",
    "import re\n",
    "import itertools"
   ]
  },
  {
   "cell_type": "code",
   "execution_count": 78,
   "id": "ba45cd72-c719-487b-b712-a10154e6e946",
   "metadata": {},
   "outputs": [],
   "source": [
    "def bool_to_int(sample, colname):\n",
    "    def is_yes(a):\n",
    "        if a == 'Yes':\n",
    "            return 1\n",
    "        else:\n",
    "            return 0\n",
    "    return sample[colname].apply(is_yes)"
   ]
  },
  {
   "attachments": {},
   "cell_type": "markdown",
   "id": "9bc97c5f-5c2a-43aa-bf1f-5e5563adaf94",
   "metadata": {},
   "source": [
    "#### Load input CPG dataframes\n",
    "\n",
    "Input dataframes are loaded in added to a dicctionary."
   ]
  },
  {
   "cell_type": "code",
   "execution_count": 79,
   "id": "86c2cadf-2149-427b-84d8-b9dd324f7569",
   "metadata": {},
   "outputs": [],
   "source": [
    "# List to iterate to create dicc dataframe\n",
    "cancer_files = os.listdir(\"/home/amaqueda/TFM/ML_project/ML_part/input/\",)\n",
    "cancer_types = [re.sub(\"_lof.fisher.permutation_input.tsv\", \"\", x) for x in cancer_files]"
   ]
  },
  {
   "cell_type": "code",
   "execution_count": 80,
   "id": "45e7812b-eb53-4461-967a-a3316f60aaa5",
   "metadata": {},
   "outputs": [],
   "source": [
    "# Create empty dicc\n",
    "CPGs_input_dicc = {}\n",
    "for (name,file) in zip(cancer_types, cancer_files):\n",
    "    CPGs_input_dicc[name] =  pd.read_table(\"/home/amaqueda/TFM/ML_project/ML_part/input/\" + file, sep=\"\\t\", header=0)"
   ]
  },
  {
   "attachments": {},
   "cell_type": "markdown",
   "id": "b660b58f-7b27-461b-9a82-330da4ed6dd1",
   "metadata": {},
   "source": [
    "#### Test only with Pan-cancer information\n",
    "\n",
    "1. From the dataframe dicctionary we select the pancancer dataset.\n",
    "2. Then we set the gene names as dataframe indexes, to later drop that column + CPG related information features.\n",
    "3. Then pathways features are turned to boolean.\n"
   ]
  },
  {
   "cell_type": "code",
   "execution_count": 159,
   "id": "34db4717-fbb0-4eba-8305-0ef6f0307cf1",
   "metadata": {},
   "outputs": [
    {
     "name": "stdout",
     "output_type": "stream",
     "text": [
      "<class 'pandas.core.frame.DataFrame'>\n",
      "Index: 18464 entries, A1BG to DUX4L2\n",
      "Data columns (total 15 columns):\n",
      " #   Column                       Non-Null Count  Dtype  \n",
      "---  ------                       --------------  -----  \n",
      " 0   gain+amplification.freq      17633 non-null  float64\n",
      " 1   loss+deletion.freq           17633 non-null  float64\n",
      " 2   tau_cancer_type_specificity  16046 non-null  float64\n",
      " 3   delmis.gnomAD_AF_EUR         17340 non-null  float64\n",
      " 4   plof.gnomAD_AF_EUR           17340 non-null  float64\n",
      " 5   clinvar.gnomAD_AF_EUR        17340 non-null  float64\n",
      " 6   p_value_EUR                  16489 non-null  float64\n",
      " 7   num.somatic_mutation         17183 non-null  float64\n",
      " 8   PTV_frequency                17183 non-null  float64\n",
      " 9   CPG                          18464 non-null  int64  \n",
      " 10  avg_ALL                      8993 non-null   float64\n",
      " 11  oe_lof                       16506 non-null  float64\n",
      " 12  permut_exact_pval            16167 non-null  float64\n",
      " 13  permut_proximal_pval         16167 non-null  float64\n",
      " 14  permut_distal_pval           16167 non-null  float64\n",
      "dtypes: float64(14), int64(1)\n",
      "memory usage: 2.3+ MB\n"
     ]
    }
   ],
   "source": [
    "# Select pancancer features and put genes as the index\n",
    "CPG_input_pancancer = CPGs_input_dicc[\"PANCANCER\"]\n",
    "CPG_input_pancancer.index = CPG_input_pancancer[\"Gene\"]\n",
    "# CPG_input_pancancer.info()\n",
    "\n",
    "# Drop unused features features.\n",
    "CPG_input_pancancer_ML = CPG_input_pancancer.drop(columns = [\"Gene\", \"PTM.exact_pval\", \"PTM.proximal_pval\", \"PTM.distal_pval\",\n",
    "                                                             \"PTM_exact_pval_EUR\", \"PTM_proximal_pval_EUR\", \"PTM_distal_pval_EUR\"])\n",
    "\n",
    "# Maybe used to change T/F for 1/0, not needed now\n",
    " \n",
    "for col in [\"CPG\",\"DNA_repair\", \"PIK_mTOR\", \"Cell_cycle\", \"Chromatin\"]: \n",
    "    CPG_input_pancancer_ML[col] = bool_to_int(CPG_input_pancancer_ML, col)\n",
    "\n",
    "# CPG_input_pancancer_ML = CPG_input_pancancer_ML\n",
    "# CPG_input_pancancer_ML.info()\n",
    "\n",
    "CPG_input_pancancer_non_redundant = CPG_input_pancancer_ML.drop(columns = [s for s in CPG_input_pancancer_ML.columns if \"min\" in s] +\n",
    "                             [\"amplification.freq\", \"deletion.freq\"] +\n",
    "                             [\"avg_CPG\", \"avg_DNA_repair\", \"avg_PIK_mTOR\", \"avg_Cell_Cycle\", \"avg_Chromatin_Remodeling\"] +\n",
    "                             [\"DNA_repair\", \"PIK_mTOR\", \"Cell_cycle\", \"Chromatin\"] +\n",
    "                             [\"tau_tissue_specificity\", \"num.PTV_mutations\", \"interaction_estimate_EUR\", \"z_value_EUR\"] +\n",
    "                             [\"interaction_estimate_loh_germ_glm\", \"z_value_loh_germ_glm\"] +\n",
    "                             [\"oe_lof_upper\"] + [s for s in CPG_input_pancancer_ML.columns if \"all_types\" in s] +\n",
    "                             [\"clinvar.germline.freq\", \"delmis.germline.freq\", \"plof.germline.freq\",\n",
    "                              \"clinvar.gnomAD_AF\", \"delmis.gnomAD_AF\", \"plof.gnomAD_AF\"] +\n",
    "                             [s for s in CPG_input_pancancer_ML.columns if \"germline\" in s] +\n",
    "                             [s for s in CPG_input_pancancer_ML.columns if \"fish\" in s])\n",
    "\n",
    "CPG_input_pancancer_non_redundant.info()\n"
   ]
  },
  {
   "attachments": {},
   "cell_type": "markdown",
   "id": "d6934e85-4fc6-4038-90ea-369154ec9179",
   "metadata": {},
   "source": [
    "### NA TO MEANS"
   ]
  },
  {
   "cell_type": "code",
   "execution_count": 160,
   "id": "63fd9966",
   "metadata": {},
   "outputs": [],
   "source": [
    "distances_cols = [s for s in CPG_input_pancancer_non_redundant.columns if (\"avg\" in s)|(\"min\" in s)]"
   ]
  },
  {
   "cell_type": "code",
   "execution_count": 161,
   "id": "8b15d143",
   "metadata": {},
   "outputs": [
    {
     "name": "stdout",
     "output_type": "stream",
     "text": [
      "<class 'pandas.core.frame.DataFrame'>\n",
      "Index: 152 entries, ABCB11 to XPC\n",
      "Data columns (total 15 columns):\n",
      " #   Column                       Non-Null Count  Dtype  \n",
      "---  ------                       --------------  -----  \n",
      " 0   gain+amplification.freq      144 non-null    float64\n",
      " 1   loss+deletion.freq           144 non-null    float64\n",
      " 2   tau_cancer_type_specificity  141 non-null    float64\n",
      " 3   delmis.gnomAD_AF_EUR         145 non-null    float64\n",
      " 4   plof.gnomAD_AF_EUR           145 non-null    float64\n",
      " 5   clinvar.gnomAD_AF_EUR        145 non-null    float64\n",
      " 6   p_value_EUR                  144 non-null    float64\n",
      " 7   num.somatic_mutation         149 non-null    float64\n",
      " 8   PTV_frequency                149 non-null    float64\n",
      " 9   CPG                          152 non-null    int64  \n",
      " 10  avg_ALL                      152 non-null    float64\n",
      " 11  oe_lof                       143 non-null    float64\n",
      " 12  permut_exact_pval            138 non-null    float64\n",
      " 13  permut_proximal_pval         138 non-null    float64\n",
      " 14  permut_distal_pval           138 non-null    float64\n",
      "dtypes: float64(14), int64(1)\n",
      "memory usage: 19.0+ KB\n"
     ]
    },
    {
     "name": "stderr",
     "output_type": "stream",
     "text": [
      "/tmp/ipykernel_16826/1477977476.py:3: SettingWithCopyWarning: \n",
      "A value is trying to be set on a copy of a slice from a DataFrame\n",
      "\n",
      "See the caveats in the documentation: https://pandas.pydata.org/pandas-docs/stable/user_guide/indexing.html#returning-a-view-versus-a-copy\n",
      "  cpgs[col].replace(np.nan, cpgs[col].mean(), inplace=True)\n"
     ]
    }
   ],
   "source": [
    "cpgs = CPG_input_pancancer_non_redundant[CPG_input_pancancer_non_redundant['CPG'] == 1]\n",
    "for col in distances_cols:\n",
    "    cpgs[col].replace(np.nan, cpgs[col].mean(), inplace=True) \n",
    "cpgs.info()"
   ]
  },
  {
   "cell_type": "code",
   "execution_count": 162,
   "id": "525cb71b",
   "metadata": {},
   "outputs": [
    {
     "name": "stdout",
     "output_type": "stream",
     "text": [
      "<class 'pandas.core.frame.DataFrame'>\n",
      "Index: 18312 entries, A1BG to DUX4L2\n",
      "Data columns (total 15 columns):\n",
      " #   Column                       Non-Null Count  Dtype  \n",
      "---  ------                       --------------  -----  \n",
      " 0   gain+amplification.freq      17489 non-null  float64\n",
      " 1   loss+deletion.freq           17489 non-null  float64\n",
      " 2   tau_cancer_type_specificity  15905 non-null  float64\n",
      " 3   delmis.gnomAD_AF_EUR         17195 non-null  float64\n",
      " 4   plof.gnomAD_AF_EUR           17195 non-null  float64\n",
      " 5   clinvar.gnomAD_AF_EUR        17195 non-null  float64\n",
      " 6   p_value_EUR                  16345 non-null  float64\n",
      " 7   num.somatic_mutation         17034 non-null  float64\n",
      " 8   PTV_frequency                17034 non-null  float64\n",
      " 9   CPG                          18312 non-null  int64  \n",
      " 10  avg_ALL                      18312 non-null  float64\n",
      " 11  oe_lof                       16363 non-null  float64\n",
      " 12  permut_exact_pval            16029 non-null  float64\n",
      " 13  permut_proximal_pval         16029 non-null  float64\n",
      " 14  permut_distal_pval           16029 non-null  float64\n",
      "dtypes: float64(14), int64(1)\n",
      "memory usage: 2.2+ MB\n"
     ]
    },
    {
     "name": "stderr",
     "output_type": "stream",
     "text": [
      "/tmp/ipykernel_16826/457375808.py:3: SettingWithCopyWarning: \n",
      "A value is trying to be set on a copy of a slice from a DataFrame\n",
      "\n",
      "See the caveats in the documentation: https://pandas.pydata.org/pandas-docs/stable/user_guide/indexing.html#returning-a-view-versus-a-copy\n",
      "  random_genes[col].replace(np.nan, random_genes[col].mean(), inplace=True)\n"
     ]
    }
   ],
   "source": [
    "random_genes = CPG_input_pancancer_non_redundant[CPG_input_pancancer_non_redundant['CPG'] == 0]\n",
    "for col in distances_cols:\n",
    "    random_genes[col].replace(np.nan, random_genes[col].mean(), inplace=True) \n",
    "random_genes.info()"
   ]
  },
  {
   "cell_type": "code",
   "execution_count": 163,
   "id": "10a59143-7ba4-44f1-9666-68dc77a4d6b4",
   "metadata": {},
   "outputs": [
    {
     "name": "stdout",
     "output_type": "stream",
     "text": [
      "Lost CPGs: 23\n"
     ]
    }
   ],
   "source": [
    "CPG_input_pancancer_ML = pd.concat([cpgs, random_genes])\n",
    "# Drops rows that have 1 or more NAs\n",
    "CPG_input_pancancer_ML_NA = CPG_input_pancancer_ML.dropna()\n",
    "\n",
    "print(\"Lost CPGs: \" + str(CPG_input_pancancer_ML[\"CPG\"].sum() - CPG_input_pancancer_ML_NA[\"CPG\"].sum()))"
   ]
  },
  {
   "cell_type": "code",
   "execution_count": 164,
   "id": "5ec0b9ef-0bed-4d19-8fe8-5ef38de015ac",
   "metadata": {
    "tags": []
   },
   "outputs": [],
   "source": [
    "import random\n",
    "\n",
    "# Get fixed random genes (not related to cancer to train a balanced model.\n",
    "CPG = list(CPG_input_pancancer_ML[\"CPG\"][CPG_input_pancancer_ML[\"CPG\"] == 1].index) # Get CPGs\n",
    "SOD = [line.strip() for line in open(\"/home/amaqueda/TFM/ML_project/ML_part/input/CGC_driver_genes.txt\", \"r\").readlines()] # Get SOD\n",
    "cancer_genes = sorted(set(CPG + SOD)) \n",
    "\n",
    "# All random genes\n",
    "# All genes in dataframe removing CPGs and SOD\n",
    "random_genes = list(set(list(CPG_input_pancancer_ML_NA.index)) - set(cancer_genes) - set(['CDRT1']))\n",
    "\n",
    "# There are X CPGs in the CPG_pancan_EUR_max datarame, select the same number of random genes\n",
    "random.seed(42)\n",
    "sample_random_genes = random.sample(random_genes, int(CPG_input_pancancer_ML_NA[\"CPG\"].sum()))\n",
    "\n",
    "# Combine all the genes to have \"N CPGs + N random\" genes that are going to be the input\n",
    "training_genes = sample_random_genes + list(CPG_input_pancancer_ML_NA[\"CPG\"][CPG_input_pancancer_ML_NA[\"CPG\"] == 1].index)"
   ]
  },
  {
   "attachments": {},
   "cell_type": "markdown",
   "id": "5e9c0dcc-7c21-4a50-a85e-591f7e1c4e3a",
   "metadata": {},
   "source": [
    "### Random forest feature selection"
   ]
  },
  {
   "cell_type": "code",
   "execution_count": 165,
   "id": "46b97f8b-51d6-4e73-ae45-3896b1774163",
   "metadata": {},
   "outputs": [],
   "source": [
    "import pandas as pd\n",
    "from sklearn.ensemble import RandomForestClassifier\n",
    "from sklearn.feature_selection import SelectFromModel\n",
    "from sklearn.metrics import classification_report\n",
    "import matplotlib.pyplot as plt"
   ]
  },
  {
   "cell_type": "code",
   "execution_count": 166,
   "id": "e6c89359",
   "metadata": {},
   "outputs": [
    {
     "data": {
      "text/plain": [
       "Index(['gain+amplification.freq', 'loss+deletion.freq',\n",
       "       'tau_cancer_type_specificity', 'delmis.gnomAD_AF_EUR',\n",
       "       'plof.gnomAD_AF_EUR', 'clinvar.gnomAD_AF_EUR', 'p_value_EUR',\n",
       "       'num.somatic_mutation', 'PTV_frequency', 'CPG', 'avg_ALL', 'oe_lof',\n",
       "       'permut_exact_pval', 'permut_proximal_pval', 'permut_distal_pval'],\n",
       "      dtype='object')"
      ]
     },
     "execution_count": 166,
     "metadata": {},
     "output_type": "execute_result"
    }
   ],
   "source": [
    "CPG_input_pancancer_ML_NA.columns"
   ]
  },
  {
   "cell_type": "code",
   "execution_count": 167,
   "id": "4fda0ddf-60d0-4820-ac00-ad2966acfa8a",
   "metadata": {},
   "outputs": [],
   "source": [
    "# Select ML input df.\n",
    "ML_input_df = CPG_input_pancancer_ML_NA.loc[training_genes,]\n",
    "\n",
    "# Define X and y\n",
    "X = ML_input_df.drop(columns = \"CPG\")\n",
    "y = ML_input_df[\"CPG\"]\n",
    "\n",
    "# Define train input for fitting the model (and hyperparameter tunning) and test (best model evaluation). 80% data for training\n",
    "X_train, X_test,y_train, y_test =  train_test_split(X, y, random_state = 21, test_size = 0.2)"
   ]
  },
  {
   "cell_type": "code",
   "execution_count": 168,
   "id": "1f3b1567-6287-4528-badf-3210b8202c19",
   "metadata": {},
   "outputs": [
    {
     "data": {
      "text/plain": [
       "3"
      ]
     },
     "execution_count": 168,
     "metadata": {},
     "output_type": "execute_result"
    }
   ],
   "source": [
    "sel = SelectFromModel(RandomForestClassifier(n_estimators = 500))\n",
    "sel.fit(X_train, y_train)\n",
    "sel.get_support()\n",
    "selected_feat= X_train.columns[(sel.get_support())]\n",
    "len(selected_feat)"
   ]
  },
  {
   "cell_type": "code",
   "execution_count": 169,
   "id": "29a31021",
   "metadata": {},
   "outputs": [
    {
     "data": {
      "text/plain": [
       "array([0.03774506, 0.03650281, 0.06558957, 0.06362921, 0.05415654,\n",
       "       0.15319873, 0.03385134, 0.0778726 , 0.04121555, 0.31302049,\n",
       "       0.06061071, 0.00394205, 0.02313639, 0.03552895])"
      ]
     },
     "execution_count": 169,
     "metadata": {},
     "output_type": "execute_result"
    }
   ],
   "source": [
    "sel.estimator_.feature_importances_"
   ]
  },
  {
   "cell_type": "code",
   "execution_count": 170,
   "id": "4cc1025d-4670-4d76-86bf-880119202426",
   "metadata": {},
   "outputs": [
    {
     "name": "stdout",
     "output_type": "stream",
     "text": [
      "Index(['clinvar.gnomAD_AF_EUR', 'num.somatic_mutation', 'avg_ALL'], dtype='object')\n"
     ]
    },
    {
     "data": {
      "text/plain": [
       "<Axes: >"
      ]
     },
     "execution_count": 170,
     "metadata": {},
     "output_type": "execute_result"
    },
    {
     "data": {
      "image/png": "[encoded data removed]",
      "text/plain": [
       "<Figure size 640x480 with 1 Axes>"
      ]
     },
     "metadata": {},
     "output_type": "display_data"
    }
   ],
   "source": [
    "print(selected_feat)\n",
    "pd.Series(sel.estimator_.feature_importances_.ravel()).hist()"
   ]
  },
  {
   "cell_type": "code",
   "execution_count": 172,
   "id": "d9da4b2c-3ff4-4ff0-8143-44d8fe6f9c85",
   "metadata": {},
   "outputs": [
    {
     "data": {
      "text/plain": [
       "<Figure size 640x480 with 0 Axes>"
      ]
     },
     "metadata": {},
     "output_type": "display_data"
    },
    {
     "data": {
      "image/png": "[encoded data removed]",
      "text/plain": [
       "<Figure size 1400x500 with 1 Axes>"
      ]
     },
     "metadata": {},
     "output_type": "display_data"
    }
   ],
   "source": [
    "importances = sel.estimator_.feature_importances_\n",
    "indices = np.argsort(importances)[::-1]\n",
    "# X is the train data used to fit the model \n",
    "plt.figure()\n",
    "plt.figure(figsize=(14,5))\n",
    "plt.title(\"Feature importances usign a RF estimator\")\n",
    "plt.bar(range(X.shape[1]), importances[indices],\n",
    "       color=\"r\", align=\"center\")\n",
    "plt.xticks(range(X.shape[1]), X_train.columns[indices], rotation='vertical')\n",
    "#plt.xticks(X_train.columns[indices], indices)\n",
    "plt.xlim([-1, X.shape[1]])\n",
    "plt.vlines(x=2.5, ymin = 0, ymax = 0.3, linewidth = 2, label=\"automatic selection threshold\")\n",
    "plt.legend()\n",
    "\n",
    "# plt.savefig('/home/amaqueda/TFM/ML_project/ML_part/feature_selection/plots/rf_non_redundant.pdf', format = 'pdf')\n",
    "plt.show()\n"
   ]
  }
 ],
 "metadata": {
  "kernelspec": {
   "display_name": "Python 3 (ipykernel)",
   "language": "python",
   "name": "python3"
  },
  "language_info": {
   "codemirror_mode": {
    "name": "ipython",
    "version": 3
   },
   "file_extension": ".py",
   "mimetype": "text/x-python",
   "name": "python",
   "nbconvert_exporter": "python",
   "pygments_lexer": "ipython3",
   "version": "3.11.0"
  }
 },
 "nbformat": 4,
 "nbformat_minor": 5
}
