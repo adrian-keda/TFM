{
 "cells": [
  {
   "cell_type": "code",
   "execution_count": 1,
   "metadata": {},
   "outputs": [],
   "source": [
    "import pandas as pd"
   ]
  },
  {
   "cell_type": "code",
   "execution_count": 14,
   "metadata": {},
   "outputs": [],
   "source": [
    "# CELL CYCLE KEGG\n",
    "cycle_kegg = '/home/amaqueda/TFM/ML_project/PPI_interactions/input/CellCycle_pathway_list_KEGG.txt'"
   ]
  },
  {
   "cell_type": "code",
   "execution_count": 12,
   "metadata": {},
   "outputs": [],
   "source": [
    "cycle_symbols = []\n",
    "\n",
    "with open (cycle_kegg, 'r') as f:\n",
    "    for line in f.readlines():\n",
    "        cycle_symbols.append(line.strip().split(';')[0].split('\\t')[-1])\n",
    "\n",
    "with open ('/home/amaqueda/TFM/ML_project/PPI_interactions/input_clean/cell_cycle_kegg_symbols.txt', 'w') as o:\n",
    "    o.write('\\n'.join(cycle_symbols))"
   ]
  },
  {
   "cell_type": "code",
   "execution_count": 26,
   "metadata": {},
   "outputs": [],
   "source": [
    "# CELL CYCLE EXPASY\n",
    "cycle_expasy = '/home/amaqueda/TFM/ML_project/PPI_interactions/input/Expasy_based_cell_cycle.txt'"
   ]
  },
  {
   "cell_type": "code",
   "execution_count": 39,
   "metadata": {},
   "outputs": [],
   "source": [
    "df = pd.read_csv(cycle_expasy, sep = '\\t', header = 0)\n",
    "df['Expasy_id'].apply(lambda x: x.split('_')[0]).to_csv('/home/amaqueda/TFM/ML_project/PPI_interactions/input_clean/cell_cycle_expasy_symbols.txt', header = None, index = False)"
   ]
  },
  {
   "cell_type": "code",
   "execution_count": 15,
   "metadata": {},
   "outputs": [],
   "source": [
    "# CHROMATIN REMODELING FACTORS\n",
    "chromatin = '/home/amaqueda/TFM/ML_project/PPI_interactions/input/Chromatin_remodelling_list_KEGG.txt'"
   ]
  },
  {
   "cell_type": "code",
   "execution_count": 23,
   "metadata": {},
   "outputs": [],
   "source": [
    "chromatin_symbols = []\n",
    "\n",
    "with open (chromatin, 'r') as f:\n",
    "    for line in f.readlines():\n",
    "        if line[0] not in ['B','C']:\n",
    "            chromatin_symbols.append(line.strip().split(';')[0].split(' ')[-1])\n",
    "\n",
    "with open ('/home/amaqueda/TFM/ML_project/PPI_interactions/input_clean/chromatin_symbols.txt', 'w') as o:\n",
    "    o.write('\\n'.join(chromatin_symbols))"
   ]
  },
  {
   "cell_type": "code",
   "execution_count": 24,
   "metadata": {},
   "outputs": [],
   "source": [
    "#PI3K\n",
    "pi3k = '/home/amaqueda/TFM/ML_project/PPI_interactions/input/PIK_pathway_list_KEGG.txt'"
   ]
  },
  {
   "cell_type": "code",
   "execution_count": 25,
   "metadata": {},
   "outputs": [],
   "source": [
    "pi3k_symbols = []\n",
    "\n",
    "with open (pi3k, 'r') as f:\n",
    "    for line in f.readlines():\n",
    "        pi3k_symbols.append(line.strip().split(';')[0].split('\\t')[-1])\n",
    "\n",
    "with open ('/home/amaqueda/TFM/ML_project/PPI_interactions/input_clean/pi3k_symbols.txt', 'w') as o:\n",
    "    o.write('\\n'.join(pi3k_symbols))"
   ]
  },
  {
   "cell_type": "code",
   "execution_count": 41,
   "metadata": {},
   "outputs": [],
   "source": [
    "# DNA repair\n",
    "dna_repair = '/home/amaqueda/TFM/ML_project/PPI_interactions/input/DNA_repair_gene_25709118.txt'"
   ]
  },
  {
   "cell_type": "code",
   "execution_count": 51,
   "metadata": {},
   "outputs": [],
   "source": [
    "df = pd.read_csv(dna_repair, sep = '\\t', header = None)\n",
    "df[5].to_csv('/home/amaqueda/TFM/ML_project/PPI_interactions/input_clean/dna_repair_symbols.txt', header = None, index = False)"
   ]
  }
 ],
 "metadata": {
  "kernelspec": {
   "display_name": "TFM",
   "language": "python",
   "name": "python3"
  },
  "language_info": {
   "codemirror_mode": {
    "name": "ipython",
    "version": 3
   },
   "file_extension": ".py",
   "mimetype": "text/x-python",
   "name": "python",
   "nbconvert_exporter": "python",
   "pygments_lexer": "ipython3",
   "version": "3.11.0"
  },
  "orig_nbformat": 4
 },
 "nbformat": 4,
 "nbformat_minor": 2
}
