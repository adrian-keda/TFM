{
 "cells": [
  {
   "cell_type": "code",
   "execution_count": 1,
   "metadata": {},
   "outputs": [],
   "source": [
    "import pandas as pd\n",
    "import numpy as np\n",
    "import networkx as nx\n",
    "import matplotlib.pyplot as plt\n",
    "from scipy import stats"
   ]
  },
  {
   "cell_type": "code",
   "execution_count": 3,
   "metadata": {},
   "outputs": [],
   "source": [
    "# Create interaction graph\n",
    "interactions = nx.read_edgelist('/home/amaqueda/TFM/ML_project/PPI_interactions/input_STRING/interactions.tsv')\n",
    "\n",
    "# CPG - PPI merging\n",
    "cpg_ppi = pd.read_csv('/home/amaqueda/TFM/ML_project/PPI_interactions/input/CPG_PPI_input_merging_v2.txt', sep = '\\t', header = 0)"
   ]
  },
  {
   "cell_type": "code",
   "execution_count": 6,
   "metadata": {},
   "outputs": [
    {
     "data": {
      "text/plain": [
       "74058"
      ]
     },
     "execution_count": 6,
     "metadata": {},
     "output_type": "execute_result"
    }
   ],
   "source": [
    "len(interactions.edges)"
   ]
  },
  {
   "cell_type": "code",
   "execution_count": 4,
   "metadata": {},
   "outputs": [
    {
     "data": {
      "text/html": [
       "<div>\n",
       "<style scoped>\n",
       "    .dataframe tbody tr th:only-of-type {\n",
       "        vertical-align: middle;\n",
       "    }\n",
       "\n",
       "    .dataframe tbody tr th {\n",
       "        vertical-align: top;\n",
       "    }\n",
       "\n",
       "    .dataframe thead th {\n",
       "        text-align: right;\n",
       "    }\n",
       "</style>\n",
       "<table border=\"1\" class=\"dataframe\">\n",
       "  <thead>\n",
       "    <tr style=\"text-align: right;\">\n",
       "      <th></th>\n",
       "      <th>Gene</th>\n",
       "      <th>NumMapping</th>\n",
       "      <th>CPG</th>\n",
       "      <th>DNA_repair</th>\n",
       "      <th>PIK_mTOR</th>\n",
       "      <th>Cell_cycle</th>\n",
       "      <th>Chromatin</th>\n",
       "    </tr>\n",
       "  </thead>\n",
       "  <tbody>\n",
       "    <tr>\n",
       "      <th>0</th>\n",
       "      <td>SMARCC2</td>\n",
       "      <td>2</td>\n",
       "      <td>No</td>\n",
       "      <td>Yes</td>\n",
       "      <td>No</td>\n",
       "      <td>No</td>\n",
       "      <td>Yes</td>\n",
       "    </tr>\n",
       "    <tr>\n",
       "      <th>1</th>\n",
       "      <td>ELANE</td>\n",
       "      <td>1</td>\n",
       "      <td>Yes</td>\n",
       "      <td>No</td>\n",
       "      <td>No</td>\n",
       "      <td>No</td>\n",
       "      <td>No</td>\n",
       "    </tr>\n",
       "    <tr>\n",
       "      <th>2</th>\n",
       "      <td>SMARCC1</td>\n",
       "      <td>2</td>\n",
       "      <td>No</td>\n",
       "      <td>Yes</td>\n",
       "      <td>No</td>\n",
       "      <td>No</td>\n",
       "      <td>Yes</td>\n",
       "    </tr>\n",
       "    <tr>\n",
       "      <th>3</th>\n",
       "      <td>BUB1B</td>\n",
       "      <td>2</td>\n",
       "      <td>Yes</td>\n",
       "      <td>No</td>\n",
       "      <td>No</td>\n",
       "      <td>Yes</td>\n",
       "      <td>No</td>\n",
       "    </tr>\n",
       "    <tr>\n",
       "      <th>4</th>\n",
       "      <td>SUMO1</td>\n",
       "      <td>1</td>\n",
       "      <td>No</td>\n",
       "      <td>Yes</td>\n",
       "      <td>No</td>\n",
       "      <td>No</td>\n",
       "      <td>No</td>\n",
       "    </tr>\n",
       "    <tr>\n",
       "      <th>...</th>\n",
       "      <td>...</td>\n",
       "      <td>...</td>\n",
       "      <td>...</td>\n",
       "      <td>...</td>\n",
       "      <td>...</td>\n",
       "      <td>...</td>\n",
       "      <td>...</td>\n",
       "    </tr>\n",
       "    <tr>\n",
       "      <th>947</th>\n",
       "      <td>FLT3LG</td>\n",
       "      <td>1</td>\n",
       "      <td>No</td>\n",
       "      <td>No</td>\n",
       "      <td>Yes</td>\n",
       "      <td>No</td>\n",
       "      <td>No</td>\n",
       "    </tr>\n",
       "    <tr>\n",
       "      <th>948</th>\n",
       "      <td>BAP1</td>\n",
       "      <td>2</td>\n",
       "      <td>Yes</td>\n",
       "      <td>Yes</td>\n",
       "      <td>No</td>\n",
       "      <td>No</td>\n",
       "      <td>No</td>\n",
       "    </tr>\n",
       "    <tr>\n",
       "      <th>949</th>\n",
       "      <td>SDHB</td>\n",
       "      <td>1</td>\n",
       "      <td>Yes</td>\n",
       "      <td>No</td>\n",
       "      <td>No</td>\n",
       "      <td>No</td>\n",
       "      <td>No</td>\n",
       "    </tr>\n",
       "    <tr>\n",
       "      <th>950</th>\n",
       "      <td>SDHD</td>\n",
       "      <td>1</td>\n",
       "      <td>Yes</td>\n",
       "      <td>No</td>\n",
       "      <td>No</td>\n",
       "      <td>No</td>\n",
       "      <td>No</td>\n",
       "    </tr>\n",
       "    <tr>\n",
       "      <th>951</th>\n",
       "      <td>ATF2</td>\n",
       "      <td>1</td>\n",
       "      <td>No</td>\n",
       "      <td>No</td>\n",
       "      <td>Yes</td>\n",
       "      <td>No</td>\n",
       "      <td>No</td>\n",
       "    </tr>\n",
       "  </tbody>\n",
       "</table>\n",
       "<p>952 rows × 7 columns</p>\n",
       "</div>"
      ],
      "text/plain": [
       "        Gene  NumMapping  CPG DNA_repair PIK_mTOR Cell_cycle Chromatin\n",
       "0    SMARCC2           2   No        Yes       No         No       Yes\n",
       "1      ELANE           1  Yes         No       No         No        No\n",
       "2    SMARCC1           2   No        Yes       No         No       Yes\n",
       "3      BUB1B           2  Yes         No       No        Yes        No\n",
       "4      SUMO1           1   No        Yes       No         No        No\n",
       "..       ...         ...  ...        ...      ...        ...       ...\n",
       "947   FLT3LG           1   No         No      Yes         No        No\n",
       "948     BAP1           2  Yes        Yes       No         No        No\n",
       "949     SDHB           1  Yes         No       No         No        No\n",
       "950     SDHD           1  Yes         No       No         No        No\n",
       "951     ATF2           1   No         No      Yes         No        No\n",
       "\n",
       "[952 rows x 7 columns]"
      ]
     },
     "execution_count": 4,
     "metadata": {},
     "output_type": "execute_result"
    }
   ],
   "source": [
    "cpg_ppi"
   ]
  },
  {
   "attachments": {},
   "cell_type": "markdown",
   "metadata": {},
   "source": [
    "# Other genes VS CPGs"
   ]
  },
  {
   "cell_type": "code",
   "execution_count": 19,
   "metadata": {},
   "outputs": [
    {
     "name": "stdout",
     "output_type": "stream",
     "text": [
      "9630 9630\n",
      "630 7\n"
     ]
    }
   ],
   "source": [
    "min_distance_cpg = []\n",
    "avg_distance_cpg = []\n",
    "genes_not_conected = 0\n",
    "genes_not_enough_conected = 0\n",
    "cpgs = cpg_ppi[cpg_ppi['CPG'] == 'Yes']['Gene'].tolist()\n",
    "\n",
    "\n",
    "for gene in list(interactions.nodes):\n",
    "    lengths = []\n",
    "    val_counter = 0\n",
    "    for cpg in cpgs:\n",
    "        if gene != cpg:\n",
    "            try:\n",
    "                lengths.append(nx.shortest_path_length(interactions, gene, cpg))\n",
    "                val_counter += 1\n",
    "            except:\n",
    "                lengths.append(np.nan)\n",
    "    if val_counter == 0:\n",
    "        genes_not_conected += 1\n",
    "        min_distance_cpg.append(np.nan)\n",
    "        avg_distance_cpg.append(np.nan)\n",
    "    elif 1 <= val_counter < 5:\n",
    "        min_distance_cpg.append(np.nan)\n",
    "        avg_distance_cpg.append(np.nan)\n",
    "        genes_not_enough_conected += 1\n",
    "    else:\n",
    "        min_distance_cpg.append(np.nanmin(lengths))\n",
    "        avg_distance_cpg.append(np.nanmean(lengths))\n",
    "\n",
    "print(len(min_distance_cpg), len(avg_distance_cpg))\n",
    "print(genes_not_conected, genes_not_enough_conected)"
   ]
  },
  {
   "attachments": {},
   "cell_type": "markdown",
   "metadata": {},
   "source": [
    "# Other genes vs CPGs + Pathways"
   ]
  },
  {
   "cell_type": "code",
   "execution_count": 3,
   "metadata": {},
   "outputs": [
    {
     "name": "stdout",
     "output_type": "stream",
     "text": [
      "9630 9630\n",
      "633 4\n"
     ]
    }
   ],
   "source": [
    "min_distance_dna_repair = []\n",
    "avg_distance_dna_repair = []\n",
    "genes_not_conected = 0\n",
    "genes_not_enough_conected = 0\n",
    "targets = cpg_ppi[cpg_ppi['DNA_repair'] == 'Yes']['Gene'].tolist()\n",
    "\n",
    "\n",
    "for gene in list(interactions.nodes):\n",
    "    lengths = []\n",
    "    val_counter = 0\n",
    "    for target in targets:\n",
    "        if gene != target:\n",
    "            try:\n",
    "                lengths.append(nx.shortest_path_length(interactions, gene, target))\n",
    "                val_counter += 1\n",
    "            except:\n",
    "                lengths.append(np.nan)\n",
    "    if val_counter == 0:\n",
    "        genes_not_conected += 1\n",
    "        min_distance_dna_repair.append(np.nan)\n",
    "        avg_distance_dna_repair.append(np.nan)\n",
    "    elif 1 <= val_counter < 5:\n",
    "        min_distance_dna_repair.append(np.nan)\n",
    "        avg_distance_dna_repair.append(np.nan)\n",
    "        genes_not_enough_conected += 1\n",
    "    else:\n",
    "        min_distance_dna_repair.append(np.nanmin(lengths))\n",
    "        avg_distance_dna_repair.append(np.nanmean(lengths))\n",
    "\n",
    "print(len(min_distance_dna_repair), len(avg_distance_dna_repair))\n",
    "print(genes_not_conected, genes_not_enough_conected)"
   ]
  },
  {
   "cell_type": "code",
   "execution_count": 4,
   "metadata": {},
   "outputs": [
    {
     "name": "stdout",
     "output_type": "stream",
     "text": [
      "9630 9630\n",
      "631 6\n"
     ]
    }
   ],
   "source": [
    "min_distance_pik_mtor = []\n",
    "avg_distance_pik_mtor = []\n",
    "genes_not_conected = 0\n",
    "genes_not_enough_conected = 0\n",
    "targets = cpg_ppi[cpg_ppi['PIK_mTOR'] == 'Yes']['Gene'].tolist()\n",
    "\n",
    "\n",
    "for gene in list(interactions.nodes):\n",
    "    lengths = []\n",
    "    val_counter = 0\n",
    "    for target in targets:\n",
    "        if gene != target:\n",
    "            try:\n",
    "                lengths.append(nx.shortest_path_length(interactions, gene, target))\n",
    "                val_counter += 1\n",
    "            except:\n",
    "                lengths.append(np.nan)\n",
    "    if val_counter == 0:\n",
    "        genes_not_conected += 1\n",
    "        min_distance_pik_mtor.append(np.nan)\n",
    "        avg_distance_pik_mtor.append(np.nan)\n",
    "    elif 1 <= val_counter < 5:\n",
    "        min_distance_pik_mtor.append(np.nan)\n",
    "        avg_distance_pik_mtor.append(np.nan)\n",
    "        genes_not_enough_conected += 1\n",
    "    else:\n",
    "        min_distance_pik_mtor.append(np.nanmin(lengths))\n",
    "        avg_distance_pik_mtor.append(np.nanmean(lengths))\n",
    "\n",
    "print(len(min_distance_pik_mtor), len(avg_distance_pik_mtor))\n",
    "print(genes_not_conected, genes_not_enough_conected)"
   ]
  },
  {
   "cell_type": "code",
   "execution_count": 5,
   "metadata": {},
   "outputs": [
    {
     "name": "stdout",
     "output_type": "stream",
     "text": [
      "9630 9630\n",
      "637 0\n"
     ]
    }
   ],
   "source": [
    "min_distance_cell_cycle = []\n",
    "avg_distance_cell_cycle = []\n",
    "genes_not_conected = 0\n",
    "genes_not_enough_conected = 0\n",
    "targets = cpg_ppi[cpg_ppi['Cell_cycle'] == 'Yes']['Gene'].tolist()\n",
    "\n",
    "\n",
    "for gene in list(interactions.nodes):\n",
    "    lengths = []\n",
    "    val_counter = 0\n",
    "    for target in targets:\n",
    "        if gene != target:\n",
    "            try:\n",
    "                lengths.append(nx.shortest_path_length(interactions, gene, target))\n",
    "                val_counter += 1\n",
    "            except:\n",
    "                lengths.append(np.nan)\n",
    "    if val_counter == 0:\n",
    "        genes_not_conected += 1\n",
    "        min_distance_cell_cycle.append(np.nan)\n",
    "        avg_distance_cell_cycle.append(np.nan)\n",
    "    elif 1 <= val_counter < 5:\n",
    "        min_distance_cell_cycle.append(np.nan)\n",
    "        avg_distance_cell_cycle.append(np.nan)\n",
    "        genes_not_enough_conected += 1\n",
    "    else:\n",
    "        min_distance_cell_cycle.append(np.nanmin(lengths))\n",
    "        avg_distance_cell_cycle.append(np.nanmean(lengths))\n",
    "\n",
    "print(len(min_distance_cell_cycle), len(avg_distance_cell_cycle))\n",
    "print(genes_not_conected, genes_not_enough_conected)"
   ]
  },
  {
   "cell_type": "code",
   "execution_count": 6,
   "metadata": {},
   "outputs": [
    {
     "name": "stdout",
     "output_type": "stream",
     "text": [
      "9630 9630\n",
      "637 0\n"
     ]
    }
   ],
   "source": [
    "min_distance_chromatin = []\n",
    "avg_distance_chromatin = []\n",
    "genes_not_conected = 0\n",
    "genes_not_enough_conected = 0\n",
    "targets = cpg_ppi[cpg_ppi['Chromatin'] == 'Yes']['Gene'].tolist()\n",
    "\n",
    "\n",
    "for gene in list(interactions.nodes):\n",
    "    lengths = []\n",
    "    val_counter = 0\n",
    "    for target in targets:\n",
    "        if gene != target:\n",
    "            try:\n",
    "                lengths.append(nx.shortest_path_length(interactions, gene, target))\n",
    "                val_counter += 1\n",
    "            except:\n",
    "                lengths.append(np.nan)\n",
    "    if val_counter == 0:\n",
    "        genes_not_conected += 1\n",
    "        min_distance_chromatin.append(np.nan)\n",
    "        avg_distance_chromatin.append(np.nan)\n",
    "    elif 1 <= val_counter < 5:\n",
    "        min_distance_chromatin.append(np.nan)\n",
    "        avg_distance_chromatin.append(np.nan)\n",
    "        genes_not_enough_conected += 1\n",
    "    else:\n",
    "        min_distance_chromatin.append(np.nanmin(lengths))\n",
    "        avg_distance_chromatin.append(np.nanmean(lengths))\n",
    "\n",
    "print(len(min_distance_chromatin), len(avg_distance_chromatin))\n",
    "print(genes_not_conected, genes_not_enough_conected)"
   ]
  },
  {
   "cell_type": "code",
   "execution_count": 7,
   "metadata": {},
   "outputs": [
    {
     "name": "stdout",
     "output_type": "stream",
     "text": [
      "9630 9630\n",
      "620 17\n"
     ]
    }
   ],
   "source": [
    "min_distance_all = []\n",
    "avg_distance_all = []\n",
    "genes_not_conected = 0\n",
    "genes_not_enough_conected = 0\n",
    "targets = cpg_ppi['Gene'].tolist()\n",
    "\n",
    "\n",
    "for gene in list(interactions.nodes):\n",
    "    lengths = []\n",
    "    val_counter = 0\n",
    "    for target in targets:\n",
    "        if gene != target:\n",
    "            try:\n",
    "                lengths.append(nx.shortest_path_length(interactions, gene, target))\n",
    "                val_counter += 1\n",
    "            except:\n",
    "                lengths.append(np.nan)\n",
    "    if val_counter == 0:\n",
    "        genes_not_conected += 1\n",
    "        min_distance_all.append(np.nan)\n",
    "        avg_distance_all.append(np.nan)\n",
    "    elif 1 <= val_counter < 5:\n",
    "        min_distance_all.append(np.nan)\n",
    "        avg_distance_all.append(np.nan)\n",
    "        genes_not_enough_conected += 1\n",
    "    else:\n",
    "        min_distance_all.append(np.nanmin(lengths))\n",
    "        avg_distance_all.append(np.nanmean(lengths))\n",
    "\n",
    "print(len(min_distance_all), len(avg_distance_all))\n",
    "print(genes_not_conected, genes_not_enough_conected)"
   ]
  },
  {
   "cell_type": "code",
   "execution_count": 123,
   "metadata": {},
   "outputs": [],
   "source": [
    "df_CPGs = pd.DataFrame(data = {'Genes':list(interactions.nodes), 'min_CPG' : min_distance_cpg, 'avg_CPG' : avg_distance_cpg})\n",
    "df_dna = pd.DataFrame(data = {'Genes':list(interactions.nodes), 'min_DNA_repair' : min_distance_dna_repair, 'avg_DNA_repair' : avg_distance_dna_repair})\n",
    "df_pik = pd.DataFrame(data = {'Genes':list(interactions.nodes), 'min_PIK_mTOR' : min_distance_pik_mtor, 'avg_PIK_mTOR' : avg_distance_pik_mtor})\n",
    "df_cycle = pd.DataFrame(data = {'Genes':list(interactions.nodes), 'min_Cell_Cycle' : min_distance_cell_cycle, 'avg_Cell_Cycle' : avg_distance_cell_cycle})\n",
    "df_chromatin = pd.DataFrame(data = {'Genes':list(interactions.nodes), 'min_Chromatin_Remodeling' : min_distance_chromatin, 'avg_Chromatin_Remodeling' : avg_distance_chromatin})\n",
    "df_all = pd.DataFrame(data = {'Genes':list(interactions.nodes), 'min_ALL' : min_distance_all, 'avg_ALL' : avg_distance_all})"
   ]
  },
  {
   "cell_type": "code",
   "execution_count": 124,
   "metadata": {},
   "outputs": [],
   "source": [
    "df_CPGs.to_csv('/home/amaqueda/TFM/ML_project/PPI_interactions/output/dfs/other_vs_CPGs.5.tsv', sep = '\\t', index = False)\n",
    "df_dna.to_csv('/home/amaqueda/TFM/ML_project/PPI_interactions/output/dfs/other_vs_dna.5.tsv', sep = '\\t', index = False)\n",
    "df_pik.to_csv('/home/amaqueda/TFM/ML_project/PPI_interactions/output/dfs/other_vs_pik.5.tsv', sep = '\\t', index = False)\n",
    "df_cycle.to_csv('/home/amaqueda/TFM/ML_project/PPI_interactions/output/dfs/other_vs_cycle.5.tsv', sep = '\\t', index = False)\n",
    "df_chromatin.to_csv('/home/amaqueda/TFM/ML_project/PPI_interactions/output/dfs/other_vs_chromatin.5.tsv', sep = '\\t', index = False)\n",
    "df_all.to_csv('/home/amaqueda/TFM/ML_project/PPI_interactions/output/dfs/other_vs_all.5.tsv', sep = '\\t', index = False)"
   ]
  },
  {
   "attachments": {},
   "cell_type": "markdown",
   "metadata": {},
   "source": [
    "# COMBINE ALL THE DISTANCES"
   ]
  },
  {
   "cell_type": "code",
   "execution_count": 125,
   "metadata": {},
   "outputs": [],
   "source": [
    "combined = df_CPGs\n",
    "combined = combined.merge(df_dna, how = 'inner', on = 'genes')\n",
    "combined = combined.merge(df_pik, how = 'inner', on = 'genes')\n",
    "combined = combined.merge(df_cycle, how = 'inner', on = 'genes')\n",
    "combined = combined.merge(df_chromatin, how = 'inner', on = 'genes')\n",
    "combined = combined.merge(df_all, how = 'inner', on = 'genes')\n",
    "\n",
    "combined.to_csv('/home/amaqueda/TFM/ML_project/PPI_interactions/output/distances.5.tsv', sep = '\\t', index = False)"
   ]
  },
  {
   "cell_type": "code",
   "execution_count": 62,
   "metadata": {},
   "outputs": [],
   "source": [
    "combined[combined['avg_distance_cell_cycle'].isnull()].to_csv('patata.tsv', sep = '\\t', index = False)"
   ]
  },
  {
   "cell_type": "code",
   "execution_count": 66,
   "metadata": {},
   "outputs": [
    {
     "name": "stdout",
     "output_type": "stream",
     "text": [
      "637\n"
     ]
    },
    {
     "data": {
      "text/plain": [
       "243     True\n",
       "244     True\n",
       "336     True\n",
       "337     True\n",
       "505     True\n",
       "        ... \n",
       "9616    True\n",
       "9620    True\n",
       "9621    True\n",
       "9622    True\n",
       "9623    True\n",
       "Name: genes, Length: 637, dtype: bool"
      ]
     },
     "execution_count": 66,
     "metadata": {},
     "output_type": "execute_result"
    }
   ],
   "source": [
    "print(sum(df_CPGs[df_CPGs['min_distance_cpg'].isnull()]['genes'] == df_CPGs[df_CPGs['avg_distance_cpg'].isnull()]['genes']))\n",
    "\n",
    "df_CPGs[df_CPGs['min_distance_cpg'].isnull()]['genes'] == df_CPGs[df_CPGs['avg_distance_cpg'].isnull()]['genes']"
   ]
  },
  {
   "attachments": {},
   "cell_type": "markdown",
   "metadata": {},
   "source": [
    "# COMPARE OTHER GENES VS CPGS"
   ]
  },
  {
   "cell_type": "code",
   "execution_count": 11,
   "metadata": {},
   "outputs": [
    {
     "data": {
      "text/html": [
       "<div>\n",
       "<style scoped>\n",
       "    .dataframe tbody tr th:only-of-type {\n",
       "        vertical-align: middle;\n",
       "    }\n",
       "\n",
       "    .dataframe tbody tr th {\n",
       "        vertical-align: top;\n",
       "    }\n",
       "\n",
       "    .dataframe thead th {\n",
       "        text-align: right;\n",
       "    }\n",
       "</style>\n",
       "<table border=\"1\" class=\"dataframe\">\n",
       "  <thead>\n",
       "    <tr style=\"text-align: right;\">\n",
       "      <th></th>\n",
       "      <th>genes</th>\n",
       "      <th>min_distance_cpg</th>\n",
       "      <th>avg_distance_cpg</th>\n",
       "      <th>min_distance_dna_repair</th>\n",
       "      <th>avg_distance_dna_repair</th>\n",
       "      <th>min_distance_pik_mtor</th>\n",
       "      <th>avg_distance_pik_mtor</th>\n",
       "      <th>min_distance_cell_cycle</th>\n",
       "      <th>avg_distance_cell_cycle</th>\n",
       "      <th>min_distance_chromatin</th>\n",
       "      <th>avg_distance_chromatin</th>\n",
       "      <th>min_distance_all</th>\n",
       "      <th>avg_distance_all</th>\n",
       "      <th>Gene_Type</th>\n",
       "    </tr>\n",
       "  </thead>\n",
       "  <tbody>\n",
       "    <tr>\n",
       "      <th>0</th>\n",
       "      <td>ARF5</td>\n",
       "      <td>3.0</td>\n",
       "      <td>4.320611</td>\n",
       "      <td>3.0</td>\n",
       "      <td>4.444730</td>\n",
       "      <td>2.0</td>\n",
       "      <td>4.358663</td>\n",
       "      <td>2.0</td>\n",
       "      <td>4.081967</td>\n",
       "      <td>4.0</td>\n",
       "      <td>4.655172</td>\n",
       "      <td>2.0</td>\n",
       "      <td>4.419695</td>\n",
       "      <td>Other_gene</td>\n",
       "    </tr>\n",
       "    <tr>\n",
       "      <th>1</th>\n",
       "      <td>COPG1</td>\n",
       "      <td>2.0</td>\n",
       "      <td>4.335878</td>\n",
       "      <td>3.0</td>\n",
       "      <td>4.655527</td>\n",
       "      <td>2.0</td>\n",
       "      <td>4.148936</td>\n",
       "      <td>3.0</td>\n",
       "      <td>4.393443</td>\n",
       "      <td>4.0</td>\n",
       "      <td>4.896552</td>\n",
       "      <td>2.0</td>\n",
       "      <td>4.439625</td>\n",
       "      <td>Other_gene</td>\n",
       "    </tr>\n",
       "    <tr>\n",
       "      <th>2</th>\n",
       "      <td>COPB1</td>\n",
       "      <td>2.0</td>\n",
       "      <td>4.305344</td>\n",
       "      <td>3.0</td>\n",
       "      <td>4.611825</td>\n",
       "      <td>2.0</td>\n",
       "      <td>4.142857</td>\n",
       "      <td>3.0</td>\n",
       "      <td>4.393443</td>\n",
       "      <td>4.0</td>\n",
       "      <td>4.655172</td>\n",
       "      <td>2.0</td>\n",
       "      <td>4.416178</td>\n",
       "      <td>Other_gene</td>\n",
       "    </tr>\n",
       "    <tr>\n",
       "      <th>3</th>\n",
       "      <td>COPG2</td>\n",
       "      <td>2.0</td>\n",
       "      <td>4.290076</td>\n",
       "      <td>3.0</td>\n",
       "      <td>4.632391</td>\n",
       "      <td>2.0</td>\n",
       "      <td>4.085106</td>\n",
       "      <td>3.0</td>\n",
       "      <td>4.393443</td>\n",
       "      <td>4.0</td>\n",
       "      <td>4.655172</td>\n",
       "      <td>2.0</td>\n",
       "      <td>4.398593</td>\n",
       "      <td>Other_gene</td>\n",
       "    </tr>\n",
       "    <tr>\n",
       "      <th>4</th>\n",
       "      <td>ARFGAP1</td>\n",
       "      <td>2.0</td>\n",
       "      <td>4.007634</td>\n",
       "      <td>2.0</td>\n",
       "      <td>4.123393</td>\n",
       "      <td>1.0</td>\n",
       "      <td>3.939210</td>\n",
       "      <td>3.0</td>\n",
       "      <td>3.860656</td>\n",
       "      <td>4.0</td>\n",
       "      <td>4.551724</td>\n",
       "      <td>1.0</td>\n",
       "      <td>4.056272</td>\n",
       "      <td>Other_gene</td>\n",
       "    </tr>\n",
       "    <tr>\n",
       "      <th>...</th>\n",
       "      <td>...</td>\n",
       "      <td>...</td>\n",
       "      <td>...</td>\n",
       "      <td>...</td>\n",
       "      <td>...</td>\n",
       "      <td>...</td>\n",
       "      <td>...</td>\n",
       "      <td>...</td>\n",
       "      <td>...</td>\n",
       "      <td>...</td>\n",
       "      <td>...</td>\n",
       "      <td>...</td>\n",
       "      <td>...</td>\n",
       "      <td>...</td>\n",
       "    </tr>\n",
       "    <tr>\n",
       "      <th>9625</th>\n",
       "      <td>WBP2</td>\n",
       "      <td>2.0</td>\n",
       "      <td>3.610687</td>\n",
       "      <td>2.0</td>\n",
       "      <td>3.840617</td>\n",
       "      <td>2.0</td>\n",
       "      <td>3.802432</td>\n",
       "      <td>2.0</td>\n",
       "      <td>3.540984</td>\n",
       "      <td>3.0</td>\n",
       "      <td>3.758621</td>\n",
       "      <td>2.0</td>\n",
       "      <td>3.815944</td>\n",
       "      <td>Other_gene</td>\n",
       "    </tr>\n",
       "    <tr>\n",
       "      <th>9626</th>\n",
       "      <td>TEFM</td>\n",
       "      <td>3.0</td>\n",
       "      <td>5.114504</td>\n",
       "      <td>3.0</td>\n",
       "      <td>5.069409</td>\n",
       "      <td>3.0</td>\n",
       "      <td>5.471125</td>\n",
       "      <td>3.0</td>\n",
       "      <td>4.844262</td>\n",
       "      <td>4.0</td>\n",
       "      <td>4.896552</td>\n",
       "      <td>3.0</td>\n",
       "      <td>5.240328</td>\n",
       "      <td>Other_gene</td>\n",
       "    </tr>\n",
       "    <tr>\n",
       "      <th>9627</th>\n",
       "      <td>DYRK1B</td>\n",
       "      <td>2.0</td>\n",
       "      <td>4.114504</td>\n",
       "      <td>2.0</td>\n",
       "      <td>4.061697</td>\n",
       "      <td>2.0</td>\n",
       "      <td>4.422492</td>\n",
       "      <td>2.0</td>\n",
       "      <td>3.737705</td>\n",
       "      <td>3.0</td>\n",
       "      <td>4.413793</td>\n",
       "      <td>2.0</td>\n",
       "      <td>4.232122</td>\n",
       "      <td>Other_gene</td>\n",
       "    </tr>\n",
       "    <tr>\n",
       "      <th>9628</th>\n",
       "      <td>ELOA3C</td>\n",
       "      <td>2.0</td>\n",
       "      <td>3.870229</td>\n",
       "      <td>2.0</td>\n",
       "      <td>3.922879</td>\n",
       "      <td>2.0</td>\n",
       "      <td>3.890578</td>\n",
       "      <td>2.0</td>\n",
       "      <td>3.713115</td>\n",
       "      <td>2.0</td>\n",
       "      <td>3.068966</td>\n",
       "      <td>2.0</td>\n",
       "      <td>3.903869</td>\n",
       "      <td>Other_gene</td>\n",
       "    </tr>\n",
       "    <tr>\n",
       "      <th>9629</th>\n",
       "      <td>ELOA3B</td>\n",
       "      <td>2.0</td>\n",
       "      <td>3.870229</td>\n",
       "      <td>2.0</td>\n",
       "      <td>3.922879</td>\n",
       "      <td>2.0</td>\n",
       "      <td>3.890578</td>\n",
       "      <td>2.0</td>\n",
       "      <td>3.713115</td>\n",
       "      <td>2.0</td>\n",
       "      <td>3.068966</td>\n",
       "      <td>2.0</td>\n",
       "      <td>3.903869</td>\n",
       "      <td>Other_gene</td>\n",
       "    </tr>\n",
       "  </tbody>\n",
       "</table>\n",
       "<p>9630 rows × 14 columns</p>\n",
       "</div>"
      ],
      "text/plain": [
       "        genes  min_distance_cpg  avg_distance_cpg  min_distance_dna_repair  \\\n",
       "0        ARF5               3.0          4.320611                      3.0   \n",
       "1       COPG1               2.0          4.335878                      3.0   \n",
       "2       COPB1               2.0          4.305344                      3.0   \n",
       "3       COPG2               2.0          4.290076                      3.0   \n",
       "4     ARFGAP1               2.0          4.007634                      2.0   \n",
       "...       ...               ...               ...                      ...   \n",
       "9625     WBP2               2.0          3.610687                      2.0   \n",
       "9626     TEFM               3.0          5.114504                      3.0   \n",
       "9627   DYRK1B               2.0          4.114504                      2.0   \n",
       "9628   ELOA3C               2.0          3.870229                      2.0   \n",
       "9629   ELOA3B               2.0          3.870229                      2.0   \n",
       "\n",
       "      avg_distance_dna_repair  min_distance_pik_mtor  avg_distance_pik_mtor  \\\n",
       "0                    4.444730                    2.0               4.358663   \n",
       "1                    4.655527                    2.0               4.148936   \n",
       "2                    4.611825                    2.0               4.142857   \n",
       "3                    4.632391                    2.0               4.085106   \n",
       "4                    4.123393                    1.0               3.939210   \n",
       "...                       ...                    ...                    ...   \n",
       "9625                 3.840617                    2.0               3.802432   \n",
       "9626                 5.069409                    3.0               5.471125   \n",
       "9627                 4.061697                    2.0               4.422492   \n",
       "9628                 3.922879                    2.0               3.890578   \n",
       "9629                 3.922879                    2.0               3.890578   \n",
       "\n",
       "      min_distance_cell_cycle  avg_distance_cell_cycle  \\\n",
       "0                         2.0                 4.081967   \n",
       "1                         3.0                 4.393443   \n",
       "2                         3.0                 4.393443   \n",
       "3                         3.0                 4.393443   \n",
       "4                         3.0                 3.860656   \n",
       "...                       ...                      ...   \n",
       "9625                      2.0                 3.540984   \n",
       "9626                      3.0                 4.844262   \n",
       "9627                      2.0                 3.737705   \n",
       "9628                      2.0                 3.713115   \n",
       "9629                      2.0                 3.713115   \n",
       "\n",
       "      min_distance_chromatin  avg_distance_chromatin  min_distance_all  \\\n",
       "0                        4.0                4.655172               2.0   \n",
       "1                        4.0                4.896552               2.0   \n",
       "2                        4.0                4.655172               2.0   \n",
       "3                        4.0                4.655172               2.0   \n",
       "4                        4.0                4.551724               1.0   \n",
       "...                      ...                     ...               ...   \n",
       "9625                     3.0                3.758621               2.0   \n",
       "9626                     4.0                4.896552               3.0   \n",
       "9627                     3.0                4.413793               2.0   \n",
       "9628                     2.0                3.068966               2.0   \n",
       "9629                     2.0                3.068966               2.0   \n",
       "\n",
       "      avg_distance_all   Gene_Type  \n",
       "0             4.419695  Other_gene  \n",
       "1             4.439625  Other_gene  \n",
       "2             4.416178  Other_gene  \n",
       "3             4.398593  Other_gene  \n",
       "4             4.056272  Other_gene  \n",
       "...                ...         ...  \n",
       "9625          3.815944  Other_gene  \n",
       "9626          5.240328  Other_gene  \n",
       "9627          4.232122  Other_gene  \n",
       "9628          3.903869  Other_gene  \n",
       "9629          3.903869  Other_gene  \n",
       "\n",
       "[9630 rows x 14 columns]"
      ]
     },
     "execution_count": 11,
     "metadata": {},
     "output_type": "execute_result"
    }
   ],
   "source": [
    "distances = pd.read_csv('/home/amaqueda/TFM/ML_project/PPI_interactions/output/distances.all.gene_type.5.tsv', sep = '\\t', header = 0)\n",
    "distances"
   ]
  },
  {
   "cell_type": "code",
   "execution_count": 92,
   "metadata": {},
   "outputs": [
    {
     "data": {
      "text/plain": [
       "3.217028772753964"
      ]
     },
     "execution_count": 92,
     "metadata": {},
     "output_type": "execute_result"
    }
   ],
   "source": [
    "distances[distances['genes'].isin(list(cpg_ppi[cpg_ppi['CPG'] == 'Yes']['Gene']))]['avg_distance_cpg'].mean()"
   ]
  },
  {
   "cell_type": "code",
   "execution_count": 93,
   "metadata": {},
   "outputs": [
    {
     "data": {
      "text/plain": [
       "3.981696444722385"
      ]
     },
     "execution_count": 93,
     "metadata": {},
     "output_type": "execute_result"
    }
   ],
   "source": [
    "distances[~distances['genes'].isin(list(cpg_ppi[cpg_ppi['CPG'] == 'Yes']['Gene']))]['avg_distance_cpg'].mean()"
   ]
  },
  {
   "cell_type": "code",
   "execution_count": 94,
   "metadata": {},
   "outputs": [
    {
     "data": {
      "text/plain": [
       "1.2366412213740459"
      ]
     },
     "execution_count": 94,
     "metadata": {},
     "output_type": "execute_result"
    }
   ],
   "source": [
    "distances[distances['genes'].isin(list(cpg_ppi[cpg_ppi['CPG'] == 'Yes']['Gene']))]['min_distance_cpg'].mean()"
   ]
  },
  {
   "cell_type": "code",
   "execution_count": 95,
   "metadata": {},
   "outputs": [
    {
     "data": {
      "text/plain": [
       "2.198939291356353"
      ]
     },
     "execution_count": 95,
     "metadata": {},
     "output_type": "execute_result"
    }
   ],
   "source": [
    "distances[~distances['genes'].isin(list(cpg_ppi[cpg_ppi['CPG'] == 'Yes']['Gene']))]['min_distance_cpg'].mean()"
   ]
  },
  {
   "cell_type": "code",
   "execution_count": 96,
   "metadata": {},
   "outputs": [
    {
     "data": {
      "text/plain": [
       "3.2602079233699697"
      ]
     },
     "execution_count": 96,
     "metadata": {},
     "output_type": "execute_result"
    }
   ],
   "source": [
    "distances[distances['genes'].isin(list(cpg_ppi[cpg_ppi['CPG'] == 'Yes']['Gene']))]['avg_distance_dna_repair'].mean()"
   ]
  },
  {
   "cell_type": "code",
   "execution_count": 97,
   "metadata": {},
   "outputs": [
    {
     "data": {
      "text/plain": [
       "4.11045989790611"
      ]
     },
     "execution_count": 97,
     "metadata": {},
     "output_type": "execute_result"
    }
   ],
   "source": [
    "distances[~distances['genes'].isin(list(cpg_ppi[cpg_ppi['CPG'] == 'Yes']['Gene']))]['avg_distance_dna_repair'].mean()"
   ]
  },
  {
   "cell_type": "code",
   "execution_count": 98,
   "metadata": {},
   "outputs": [
    {
     "data": {
      "text/plain": [
       "1.450381679389313"
      ]
     },
     "execution_count": 98,
     "metadata": {},
     "output_type": "execute_result"
    }
   ],
   "source": [
    "distances[distances['genes'].isin(list(cpg_ppi[cpg_ppi['CPG'] == 'Yes']['Gene']))]['min_distance_dna_repair'].mean()"
   ]
  },
  {
   "cell_type": "code",
   "execution_count": 99,
   "metadata": {},
   "outputs": [
    {
     "data": {
      "text/plain": [
       "2.1944256375535995"
      ]
     },
     "execution_count": 99,
     "metadata": {},
     "output_type": "execute_result"
    }
   ],
   "source": [
    "distances[~distances['genes'].isin(list(cpg_ppi[cpg_ppi['CPG'] == 'Yes']['Gene']))]['min_distance_dna_repair'].mean()"
   ]
  },
  {
   "cell_type": "code",
   "execution_count": 100,
   "metadata": {},
   "outputs": [
    {
     "data": {
      "text/plain": [
       "3.0145277073070846"
      ]
     },
     "execution_count": 100,
     "metadata": {},
     "output_type": "execute_result"
    }
   ],
   "source": [
    "distances[distances['genes'].isin(list(cpg_ppi[cpg_ppi['CPG'] == 'Yes']['Gene']))]['avg_distance_cell_cycle'].mean()"
   ]
  },
  {
   "cell_type": "code",
   "execution_count": 101,
   "metadata": {},
   "outputs": [
    {
     "data": {
      "text/plain": [
       "3.8425831284195047"
      ]
     },
     "execution_count": 101,
     "metadata": {},
     "output_type": "execute_result"
    }
   ],
   "source": [
    "distances[~distances['genes'].isin(list(cpg_ppi[cpg_ppi['CPG'] == 'Yes']['Gene']))]['avg_distance_cell_cycle'].mean()"
   ]
  },
  {
   "cell_type": "code",
   "execution_count": 102,
   "metadata": {},
   "outputs": [
    {
     "data": {
      "text/plain": [
       "1.5954198473282444"
      ]
     },
     "execution_count": 102,
     "metadata": {},
     "output_type": "execute_result"
    }
   ],
   "source": [
    "distances[distances['genes'].isin(list(cpg_ppi[cpg_ppi['CPG'] == 'Yes']['Gene']))]['min_distance_cell_cycle'].mean()"
   ]
  },
  {
   "cell_type": "code",
   "execution_count": 103,
   "metadata": {},
   "outputs": [
    {
     "data": {
      "text/plain": [
       "2.3668472128187767"
      ]
     },
     "execution_count": 103,
     "metadata": {},
     "output_type": "execute_result"
    }
   ],
   "source": [
    "distances[~distances['genes'].isin(list(cpg_ppi[cpg_ppi['CPG'] == 'Yes']['Gene']))]['min_distance_cell_cycle'].mean()"
   ]
  },
  {
   "cell_type": "code",
   "execution_count": 104,
   "metadata": {},
   "outputs": [
    {
     "data": {
      "text/plain": [
       "2.213740458015267"
      ]
     },
     "execution_count": 104,
     "metadata": {},
     "output_type": "execute_result"
    }
   ],
   "source": [
    "distances[distances['genes'].isin(list(cpg_ppi[cpg_ppi['CPG'] == 'Yes']['Gene']))]['min_distance_chromatin'].mean()"
   ]
  },
  {
   "cell_type": "code",
   "execution_count": 105,
   "metadata": {},
   "outputs": [
    {
     "data": {
      "text/plain": [
       "3.029113067027759"
      ]
     },
     "execution_count": 105,
     "metadata": {},
     "output_type": "execute_result"
    }
   ],
   "source": [
    "distances[~distances['genes'].isin(list(cpg_ppi[cpg_ppi['CPG'] == 'Yes']['Gene']))]['min_distance_chromatin'].mean()"
   ]
  },
  {
   "cell_type": "code",
   "execution_count": 106,
   "metadata": {},
   "outputs": [
    {
     "data": {
      "text/plain": [
       "3.0958898958372503"
      ]
     },
     "execution_count": 106,
     "metadata": {},
     "output_type": "execute_result"
    }
   ],
   "source": [
    "distances[distances['genes'].isin(list(cpg_ppi[cpg_ppi['CPG'] == 'Yes']['Gene']))]['avg_distance_chromatin'].mean()"
   ]
  },
  {
   "cell_type": "code",
   "execution_count": 107,
   "metadata": {},
   "outputs": [
    {
     "data": {
      "text/plain": [
       "3.9167725596530487"
      ]
     },
     "execution_count": 107,
     "metadata": {},
     "output_type": "execute_result"
    }
   ],
   "source": [
    "distances[~distances['genes'].isin(list(cpg_ppi[cpg_ppi['CPG'] == 'Yes']['Gene']))]['avg_distance_chromatin'].mean()"
   ]
  },
  {
   "cell_type": "code",
   "execution_count": 108,
   "metadata": {},
   "outputs": [
    {
     "data": {
      "text/plain": [
       "3.420414513607072"
      ]
     },
     "execution_count": 108,
     "metadata": {},
     "output_type": "execute_result"
    }
   ],
   "source": [
    "distances[distances['genes'].isin(list(cpg_ppi[cpg_ppi['CPG'] == 'Yes']['Gene']))]['avg_distance_pik_mtor'].mean()"
   ]
  },
  {
   "cell_type": "code",
   "execution_count": 109,
   "metadata": {},
   "outputs": [
    {
     "data": {
      "text/plain": [
       "3.9995073240131354"
      ]
     },
     "execution_count": 109,
     "metadata": {},
     "output_type": "execute_result"
    }
   ],
   "source": [
    "distances[~distances['genes'].isin(list(cpg_ppi[cpg_ppi['CPG'] == 'Yes']['Gene']))]['avg_distance_pik_mtor'].mean()"
   ]
  },
  {
   "cell_type": "code",
   "execution_count": 110,
   "metadata": {},
   "outputs": [
    {
     "data": {
      "text/plain": [
       "2.213740458015267"
      ]
     },
     "execution_count": 110,
     "metadata": {},
     "output_type": "execute_result"
    }
   ],
   "source": [
    "distances[distances['genes'].isin(list(cpg_ppi[cpg_ppi['CPG'] == 'Yes']['Gene']))]['min_distance_chromatin'].mean()"
   ]
  },
  {
   "cell_type": "code",
   "execution_count": 111,
   "metadata": {},
   "outputs": [
    {
     "data": {
      "text/plain": [
       "3.029113067027759"
      ]
     },
     "execution_count": 111,
     "metadata": {},
     "output_type": "execute_result"
    }
   ],
   "source": [
    "distances[~distances['genes'].isin(list(cpg_ppi[cpg_ppi['CPG'] == 'Yes']['Gene']))]['min_distance_chromatin'].mean()"
   ]
  },
  {
   "cell_type": "code",
   "execution_count": 130,
   "metadata": {},
   "outputs": [
    {
     "data": {
      "text/plain": [
       "1.1068702290076335"
      ]
     },
     "execution_count": 130,
     "metadata": {},
     "output_type": "execute_result"
    }
   ],
   "source": [
    "distances[distances['genes'].isin(list(cpg_ppi[cpg_ppi['CPG'] == 'Yes']['Gene']))]['min_distance_all'].mean()"
   ]
  },
  {
   "cell_type": "code",
   "execution_count": 131,
   "metadata": {},
   "outputs": [
    {
     "data": {
      "text/plain": [
       "1.7423832092078537"
      ]
     },
     "execution_count": 131,
     "metadata": {},
     "output_type": "execute_result"
    }
   ],
   "source": [
    "distances[~distances['genes'].isin(list(cpg_ppi[cpg_ppi['CPG'] == 'Yes']['Gene']))]['min_distance_all'].mean()"
   ]
  },
  {
   "cell_type": "code",
   "execution_count": 133,
   "metadata": {},
   "outputs": [
    {
     "data": {
      "text/plain": [
       "3.334283052001577"
      ]
     },
     "execution_count": 133,
     "metadata": {},
     "output_type": "execute_result"
    }
   ],
   "source": [
    "distances[distances['genes'].isin(list(cpg_ppi[cpg_ppi['CPG'] == 'Yes']['Gene']))]['avg_distance_all'].mean()"
   ]
  },
  {
   "cell_type": "code",
   "execution_count": 132,
   "metadata": {},
   "outputs": [
    {
     "data": {
      "text/plain": [
       "4.061970012372644"
      ]
     },
     "execution_count": 132,
     "metadata": {},
     "output_type": "execute_result"
    }
   ],
   "source": [
    "distances[~distances['genes'].isin(list(cpg_ppi[cpg_ppi['CPG'] == 'Yes']['Gene']))]['avg_distance_all'].mean()"
   ]
  },
  {
   "cell_type": "code",
   "execution_count": 127,
   "metadata": {},
   "outputs": [
    {
     "data": {
      "text/html": [
       "<div>\n",
       "<style scoped>\n",
       "    .dataframe tbody tr th:only-of-type {\n",
       "        vertical-align: middle;\n",
       "    }\n",
       "\n",
       "    .dataframe tbody tr th {\n",
       "        vertical-align: top;\n",
       "    }\n",
       "\n",
       "    .dataframe thead th {\n",
       "        text-align: right;\n",
       "    }\n",
       "</style>\n",
       "<table border=\"1\" class=\"dataframe\">\n",
       "  <thead>\n",
       "    <tr style=\"text-align: right;\">\n",
       "      <th></th>\n",
       "      <th>genes</th>\n",
       "      <th>min_distance_cpg</th>\n",
       "      <th>avg_distance_cpg</th>\n",
       "      <th>min_distance_dna_repair</th>\n",
       "      <th>avg_distance_dna_repair</th>\n",
       "      <th>min_distance_pik_mtor</th>\n",
       "      <th>avg_distance_pik_mtor</th>\n",
       "      <th>min_distance_cell_cycle</th>\n",
       "      <th>avg_distance_cell_cycle</th>\n",
       "      <th>min_distance_chromatin</th>\n",
       "      <th>avg_distance_chromatin</th>\n",
       "      <th>min_distance_all</th>\n",
       "      <th>avg_distance_all</th>\n",
       "      <th>Gene_Type</th>\n",
       "    </tr>\n",
       "  </thead>\n",
       "  <tbody>\n",
       "    <tr>\n",
       "      <th>0</th>\n",
       "      <td>ARF5</td>\n",
       "      <td>3.0</td>\n",
       "      <td>4.320611</td>\n",
       "      <td>3.0</td>\n",
       "      <td>4.444730</td>\n",
       "      <td>2.0</td>\n",
       "      <td>4.358663</td>\n",
       "      <td>2.0</td>\n",
       "      <td>4.081967</td>\n",
       "      <td>4.0</td>\n",
       "      <td>4.655172</td>\n",
       "      <td>2.0</td>\n",
       "      <td>4.419695</td>\n",
       "      <td>Other_gene</td>\n",
       "    </tr>\n",
       "    <tr>\n",
       "      <th>1</th>\n",
       "      <td>COPG1</td>\n",
       "      <td>2.0</td>\n",
       "      <td>4.335878</td>\n",
       "      <td>3.0</td>\n",
       "      <td>4.655527</td>\n",
       "      <td>2.0</td>\n",
       "      <td>4.148936</td>\n",
       "      <td>3.0</td>\n",
       "      <td>4.393443</td>\n",
       "      <td>4.0</td>\n",
       "      <td>4.896552</td>\n",
       "      <td>2.0</td>\n",
       "      <td>4.439625</td>\n",
       "      <td>Other_gene</td>\n",
       "    </tr>\n",
       "    <tr>\n",
       "      <th>2</th>\n",
       "      <td>COPB1</td>\n",
       "      <td>2.0</td>\n",
       "      <td>4.305344</td>\n",
       "      <td>3.0</td>\n",
       "      <td>4.611825</td>\n",
       "      <td>2.0</td>\n",
       "      <td>4.142857</td>\n",
       "      <td>3.0</td>\n",
       "      <td>4.393443</td>\n",
       "      <td>4.0</td>\n",
       "      <td>4.655172</td>\n",
       "      <td>2.0</td>\n",
       "      <td>4.416178</td>\n",
       "      <td>Other_gene</td>\n",
       "    </tr>\n",
       "    <tr>\n",
       "      <th>3</th>\n",
       "      <td>COPG2</td>\n",
       "      <td>2.0</td>\n",
       "      <td>4.290076</td>\n",
       "      <td>3.0</td>\n",
       "      <td>4.632391</td>\n",
       "      <td>2.0</td>\n",
       "      <td>4.085106</td>\n",
       "      <td>3.0</td>\n",
       "      <td>4.393443</td>\n",
       "      <td>4.0</td>\n",
       "      <td>4.655172</td>\n",
       "      <td>2.0</td>\n",
       "      <td>4.398593</td>\n",
       "      <td>Other_gene</td>\n",
       "    </tr>\n",
       "    <tr>\n",
       "      <th>4</th>\n",
       "      <td>ARFGAP1</td>\n",
       "      <td>2.0</td>\n",
       "      <td>4.007634</td>\n",
       "      <td>2.0</td>\n",
       "      <td>4.123393</td>\n",
       "      <td>1.0</td>\n",
       "      <td>3.939210</td>\n",
       "      <td>3.0</td>\n",
       "      <td>3.860656</td>\n",
       "      <td>4.0</td>\n",
       "      <td>4.551724</td>\n",
       "      <td>1.0</td>\n",
       "      <td>4.056272</td>\n",
       "      <td>Other_gene</td>\n",
       "    </tr>\n",
       "    <tr>\n",
       "      <th>...</th>\n",
       "      <td>...</td>\n",
       "      <td>...</td>\n",
       "      <td>...</td>\n",
       "      <td>...</td>\n",
       "      <td>...</td>\n",
       "      <td>...</td>\n",
       "      <td>...</td>\n",
       "      <td>...</td>\n",
       "      <td>...</td>\n",
       "      <td>...</td>\n",
       "      <td>...</td>\n",
       "      <td>...</td>\n",
       "      <td>...</td>\n",
       "      <td>...</td>\n",
       "    </tr>\n",
       "    <tr>\n",
       "      <th>9625</th>\n",
       "      <td>WBP2</td>\n",
       "      <td>2.0</td>\n",
       "      <td>3.610687</td>\n",
       "      <td>2.0</td>\n",
       "      <td>3.840617</td>\n",
       "      <td>2.0</td>\n",
       "      <td>3.802432</td>\n",
       "      <td>2.0</td>\n",
       "      <td>3.540984</td>\n",
       "      <td>3.0</td>\n",
       "      <td>3.758621</td>\n",
       "      <td>2.0</td>\n",
       "      <td>3.815944</td>\n",
       "      <td>Other_gene</td>\n",
       "    </tr>\n",
       "    <tr>\n",
       "      <th>9626</th>\n",
       "      <td>TEFM</td>\n",
       "      <td>3.0</td>\n",
       "      <td>5.114504</td>\n",
       "      <td>3.0</td>\n",
       "      <td>5.069409</td>\n",
       "      <td>3.0</td>\n",
       "      <td>5.471125</td>\n",
       "      <td>3.0</td>\n",
       "      <td>4.844262</td>\n",
       "      <td>4.0</td>\n",
       "      <td>4.896552</td>\n",
       "      <td>3.0</td>\n",
       "      <td>5.240328</td>\n",
       "      <td>Other_gene</td>\n",
       "    </tr>\n",
       "    <tr>\n",
       "      <th>9627</th>\n",
       "      <td>DYRK1B</td>\n",
       "      <td>2.0</td>\n",
       "      <td>4.114504</td>\n",
       "      <td>2.0</td>\n",
       "      <td>4.061697</td>\n",
       "      <td>2.0</td>\n",
       "      <td>4.422492</td>\n",
       "      <td>2.0</td>\n",
       "      <td>3.737705</td>\n",
       "      <td>3.0</td>\n",
       "      <td>4.413793</td>\n",
       "      <td>2.0</td>\n",
       "      <td>4.232122</td>\n",
       "      <td>Other_gene</td>\n",
       "    </tr>\n",
       "    <tr>\n",
       "      <th>9628</th>\n",
       "      <td>ELOA3C</td>\n",
       "      <td>2.0</td>\n",
       "      <td>3.870229</td>\n",
       "      <td>2.0</td>\n",
       "      <td>3.922879</td>\n",
       "      <td>2.0</td>\n",
       "      <td>3.890578</td>\n",
       "      <td>2.0</td>\n",
       "      <td>3.713115</td>\n",
       "      <td>2.0</td>\n",
       "      <td>3.068966</td>\n",
       "      <td>2.0</td>\n",
       "      <td>3.903869</td>\n",
       "      <td>Other_gene</td>\n",
       "    </tr>\n",
       "    <tr>\n",
       "      <th>9629</th>\n",
       "      <td>ELOA3B</td>\n",
       "      <td>2.0</td>\n",
       "      <td>3.870229</td>\n",
       "      <td>2.0</td>\n",
       "      <td>3.922879</td>\n",
       "      <td>2.0</td>\n",
       "      <td>3.890578</td>\n",
       "      <td>2.0</td>\n",
       "      <td>3.713115</td>\n",
       "      <td>2.0</td>\n",
       "      <td>3.068966</td>\n",
       "      <td>2.0</td>\n",
       "      <td>3.903869</td>\n",
       "      <td>Other_gene</td>\n",
       "    </tr>\n",
       "  </tbody>\n",
       "</table>\n",
       "<p>9630 rows × 14 columns</p>\n",
       "</div>"
      ],
      "text/plain": [
       "        genes  min_distance_cpg  avg_distance_cpg  min_distance_dna_repair  \\\n",
       "0        ARF5               3.0          4.320611                      3.0   \n",
       "1       COPG1               2.0          4.335878                      3.0   \n",
       "2       COPB1               2.0          4.305344                      3.0   \n",
       "3       COPG2               2.0          4.290076                      3.0   \n",
       "4     ARFGAP1               2.0          4.007634                      2.0   \n",
       "...       ...               ...               ...                      ...   \n",
       "9625     WBP2               2.0          3.610687                      2.0   \n",
       "9626     TEFM               3.0          5.114504                      3.0   \n",
       "9627   DYRK1B               2.0          4.114504                      2.0   \n",
       "9628   ELOA3C               2.0          3.870229                      2.0   \n",
       "9629   ELOA3B               2.0          3.870229                      2.0   \n",
       "\n",
       "      avg_distance_dna_repair  min_distance_pik_mtor  avg_distance_pik_mtor  \\\n",
       "0                    4.444730                    2.0               4.358663   \n",
       "1                    4.655527                    2.0               4.148936   \n",
       "2                    4.611825                    2.0               4.142857   \n",
       "3                    4.632391                    2.0               4.085106   \n",
       "4                    4.123393                    1.0               3.939210   \n",
       "...                       ...                    ...                    ...   \n",
       "9625                 3.840617                    2.0               3.802432   \n",
       "9626                 5.069409                    3.0               5.471125   \n",
       "9627                 4.061697                    2.0               4.422492   \n",
       "9628                 3.922879                    2.0               3.890578   \n",
       "9629                 3.922879                    2.0               3.890578   \n",
       "\n",
       "      min_distance_cell_cycle  avg_distance_cell_cycle  \\\n",
       "0                         2.0                 4.081967   \n",
       "1                         3.0                 4.393443   \n",
       "2                         3.0                 4.393443   \n",
       "3                         3.0                 4.393443   \n",
       "4                         3.0                 3.860656   \n",
       "...                       ...                      ...   \n",
       "9625                      2.0                 3.540984   \n",
       "9626                      3.0                 4.844262   \n",
       "9627                      2.0                 3.737705   \n",
       "9628                      2.0                 3.713115   \n",
       "9629                      2.0                 3.713115   \n",
       "\n",
       "      min_distance_chromatin  avg_distance_chromatin  min_distance_all  \\\n",
       "0                        4.0                4.655172               2.0   \n",
       "1                        4.0                4.896552               2.0   \n",
       "2                        4.0                4.655172               2.0   \n",
       "3                        4.0                4.655172               2.0   \n",
       "4                        4.0                4.551724               1.0   \n",
       "...                      ...                     ...               ...   \n",
       "9625                     3.0                3.758621               2.0   \n",
       "9626                     4.0                4.896552               3.0   \n",
       "9627                     3.0                4.413793               2.0   \n",
       "9628                     2.0                3.068966               2.0   \n",
       "9629                     2.0                3.068966               2.0   \n",
       "\n",
       "      avg_distance_all   Gene_Type  \n",
       "0             4.419695  Other_gene  \n",
       "1             4.439625  Other_gene  \n",
       "2             4.416178  Other_gene  \n",
       "3             4.398593  Other_gene  \n",
       "4             4.056272  Other_gene  \n",
       "...                ...         ...  \n",
       "9625          3.815944  Other_gene  \n",
       "9626          5.240328  Other_gene  \n",
       "9627          4.232122  Other_gene  \n",
       "9628          3.903869  Other_gene  \n",
       "9629          3.903869  Other_gene  \n",
       "\n",
       "[9630 rows x 14 columns]"
      ]
     },
     "execution_count": 127,
     "metadata": {},
     "output_type": "execute_result"
    }
   ],
   "source": [
    "distances['Gene_Type'] = ['CPG' if i else 'Other_gene' for i in list(distances['genes'].isin(list(cpg_ppi[cpg_ppi['CPG'] == 'Yes']['Gene'])))]\n",
    "distances"
   ]
  },
  {
   "cell_type": "code",
   "execution_count": 128,
   "metadata": {},
   "outputs": [],
   "source": [
    "distances.to_csv('/home/amaqueda/TFM/ML_project/PPI_interactions/output/distances.gene_type.5.tsv', sep = '\\t', index = False)"
   ]
  },
  {
   "cell_type": "code",
   "execution_count": 24,
   "metadata": {},
   "outputs": [
    {
     "data": {
      "image/png": "[encoded data removed]",
      "text/plain": [
       "<Figure size 1000x1000 with 6 Axes>"
      ]
     },
     "metadata": {},
     "output_type": "display_data"
    }
   ],
   "source": [
    "distances.boxplot(['avg_distance_cpg', 'avg_distance_dna_repair', 'avg_distance_pik_mtor', 'avg_distance_cell_cycle', 'avg_distance_chromatin', 'avg_distance_all'], by = 'Gene_Type', figsize = (10, 10))\n",
    "# distances.boxplot(['avg_distance_all'], by = 'Gene_Type')\n",
    "plt.ylim((0,10))\n",
    "plt.savefig('/home/amaqueda/TFM/ML_project/PPI_interactions/output/plots/all.5.png')\n",
    "plt.show()"
   ]
  },
  {
   "attachments": {},
   "cell_type": "markdown",
   "metadata": {},
   "source": [
    "# Percentages"
   ]
  },
  {
   "cell_type": "code",
   "execution_count": 118,
   "metadata": {},
   "outputs": [
    {
     "data": {
      "text/plain": [
       "0.8881578947368421"
      ]
     },
     "execution_count": 118,
     "metadata": {},
     "output_type": "execute_result"
    }
   ],
   "source": [
    "distances[distances['Gene_Type'] == 'CPG'].shape[0] / cpg_ppi[cpg_ppi['CPG'] == 'Yes'].shape[0]"
   ]
  },
  {
   "cell_type": "code",
   "execution_count": 119,
   "metadata": {},
   "outputs": [],
   "source": [
    "distances[distances['genes'].isin(list(cpg_ppi[cpg_ppi['CPG'] == 'Yes']['Gene']))].to_csv('/home/amaqueda/TFM/ML_project/PPI_interactions/output/CPGs_info.tsv', sep = '\\t', index = False)"
   ]
  },
  {
   "cell_type": "code",
   "execution_count": 126,
   "metadata": {},
   "outputs": [],
   "source": [
    "distances[distances['avg_distance_cell_cycle'].isnull()].to_csv('/home/amaqueda/TFM/ML_project/PPI_interactions/output/null_genes.tsv', sep = '\\t', index = False)"
   ]
  },
  {
   "cell_type": "code",
   "execution_count": 137,
   "metadata": {},
   "outputs": [
    {
     "data": {
      "text/html": [
       "<div>\n",
       "<style scoped>\n",
       "    .dataframe tbody tr th:only-of-type {\n",
       "        vertical-align: middle;\n",
       "    }\n",
       "\n",
       "    .dataframe tbody tr th {\n",
       "        vertical-align: top;\n",
       "    }\n",
       "\n",
       "    .dataframe thead th {\n",
       "        text-align: right;\n",
       "    }\n",
       "</style>\n",
       "<table border=\"1\" class=\"dataframe\">\n",
       "  <thead>\n",
       "    <tr style=\"text-align: right;\">\n",
       "      <th></th>\n",
       "      <th>genes</th>\n",
       "      <th>min_distance_cpg</th>\n",
       "      <th>avg_distance_cpg</th>\n",
       "      <th>min_distance_dna_repair</th>\n",
       "      <th>avg_distance_dna_repair</th>\n",
       "      <th>min_distance_pik_mtor</th>\n",
       "      <th>avg_distance_pik_mtor</th>\n",
       "      <th>min_distance_cell_cycle</th>\n",
       "      <th>avg_distance_cell_cycle</th>\n",
       "      <th>min_distance_chromatin</th>\n",
       "      <th>avg_distance_chromatin</th>\n",
       "      <th>Gene_Type</th>\n",
       "    </tr>\n",
       "  </thead>\n",
       "  <tbody>\n",
       "    <tr>\n",
       "      <th>0</th>\n",
       "      <td>ARF5</td>\n",
       "      <td>3.0</td>\n",
       "      <td>4.320611</td>\n",
       "      <td>3.0</td>\n",
       "      <td>4.444730</td>\n",
       "      <td>2.0</td>\n",
       "      <td>4.358663</td>\n",
       "      <td>2.0</td>\n",
       "      <td>4.081967</td>\n",
       "      <td>4.0</td>\n",
       "      <td>4.655172</td>\n",
       "      <td>Other_gene</td>\n",
       "    </tr>\n",
       "    <tr>\n",
       "      <th>1</th>\n",
       "      <td>COPG1</td>\n",
       "      <td>2.0</td>\n",
       "      <td>4.335878</td>\n",
       "      <td>3.0</td>\n",
       "      <td>4.655527</td>\n",
       "      <td>2.0</td>\n",
       "      <td>4.148936</td>\n",
       "      <td>3.0</td>\n",
       "      <td>4.393443</td>\n",
       "      <td>4.0</td>\n",
       "      <td>4.896552</td>\n",
       "      <td>Other_gene</td>\n",
       "    </tr>\n",
       "    <tr>\n",
       "      <th>2</th>\n",
       "      <td>COPB1</td>\n",
       "      <td>2.0</td>\n",
       "      <td>4.305344</td>\n",
       "      <td>3.0</td>\n",
       "      <td>4.611825</td>\n",
       "      <td>2.0</td>\n",
       "      <td>4.142857</td>\n",
       "      <td>3.0</td>\n",
       "      <td>4.393443</td>\n",
       "      <td>4.0</td>\n",
       "      <td>4.655172</td>\n",
       "      <td>Other_gene</td>\n",
       "    </tr>\n",
       "    <tr>\n",
       "      <th>3</th>\n",
       "      <td>COPG2</td>\n",
       "      <td>2.0</td>\n",
       "      <td>4.290076</td>\n",
       "      <td>3.0</td>\n",
       "      <td>4.632391</td>\n",
       "      <td>2.0</td>\n",
       "      <td>4.085106</td>\n",
       "      <td>3.0</td>\n",
       "      <td>4.393443</td>\n",
       "      <td>4.0</td>\n",
       "      <td>4.655172</td>\n",
       "      <td>Other_gene</td>\n",
       "    </tr>\n",
       "    <tr>\n",
       "      <th>4</th>\n",
       "      <td>ARFGAP1</td>\n",
       "      <td>2.0</td>\n",
       "      <td>4.007634</td>\n",
       "      <td>2.0</td>\n",
       "      <td>4.123393</td>\n",
       "      <td>1.0</td>\n",
       "      <td>3.939210</td>\n",
       "      <td>3.0</td>\n",
       "      <td>3.860656</td>\n",
       "      <td>4.0</td>\n",
       "      <td>4.551724</td>\n",
       "      <td>Other_gene</td>\n",
       "    </tr>\n",
       "    <tr>\n",
       "      <th>...</th>\n",
       "      <td>...</td>\n",
       "      <td>...</td>\n",
       "      <td>...</td>\n",
       "      <td>...</td>\n",
       "      <td>...</td>\n",
       "      <td>...</td>\n",
       "      <td>...</td>\n",
       "      <td>...</td>\n",
       "      <td>...</td>\n",
       "      <td>...</td>\n",
       "      <td>...</td>\n",
       "      <td>...</td>\n",
       "    </tr>\n",
       "    <tr>\n",
       "      <th>9625</th>\n",
       "      <td>WBP2</td>\n",
       "      <td>2.0</td>\n",
       "      <td>3.610687</td>\n",
       "      <td>2.0</td>\n",
       "      <td>3.840617</td>\n",
       "      <td>2.0</td>\n",
       "      <td>3.802432</td>\n",
       "      <td>2.0</td>\n",
       "      <td>3.540984</td>\n",
       "      <td>3.0</td>\n",
       "      <td>3.758621</td>\n",
       "      <td>Other_gene</td>\n",
       "    </tr>\n",
       "    <tr>\n",
       "      <th>9626</th>\n",
       "      <td>TEFM</td>\n",
       "      <td>3.0</td>\n",
       "      <td>5.114504</td>\n",
       "      <td>3.0</td>\n",
       "      <td>5.069409</td>\n",
       "      <td>3.0</td>\n",
       "      <td>5.471125</td>\n",
       "      <td>3.0</td>\n",
       "      <td>4.844262</td>\n",
       "      <td>4.0</td>\n",
       "      <td>4.896552</td>\n",
       "      <td>Other_gene</td>\n",
       "    </tr>\n",
       "    <tr>\n",
       "      <th>9627</th>\n",
       "      <td>DYRK1B</td>\n",
       "      <td>2.0</td>\n",
       "      <td>4.114504</td>\n",
       "      <td>2.0</td>\n",
       "      <td>4.061697</td>\n",
       "      <td>2.0</td>\n",
       "      <td>4.422492</td>\n",
       "      <td>2.0</td>\n",
       "      <td>3.737705</td>\n",
       "      <td>3.0</td>\n",
       "      <td>4.413793</td>\n",
       "      <td>Other_gene</td>\n",
       "    </tr>\n",
       "    <tr>\n",
       "      <th>9628</th>\n",
       "      <td>ELOA3C</td>\n",
       "      <td>2.0</td>\n",
       "      <td>3.870229</td>\n",
       "      <td>2.0</td>\n",
       "      <td>3.922879</td>\n",
       "      <td>2.0</td>\n",
       "      <td>3.890578</td>\n",
       "      <td>2.0</td>\n",
       "      <td>3.713115</td>\n",
       "      <td>2.0</td>\n",
       "      <td>3.068966</td>\n",
       "      <td>Other_gene</td>\n",
       "    </tr>\n",
       "    <tr>\n",
       "      <th>9629</th>\n",
       "      <td>ELOA3B</td>\n",
       "      <td>2.0</td>\n",
       "      <td>3.870229</td>\n",
       "      <td>2.0</td>\n",
       "      <td>3.922879</td>\n",
       "      <td>2.0</td>\n",
       "      <td>3.890578</td>\n",
       "      <td>2.0</td>\n",
       "      <td>3.713115</td>\n",
       "      <td>2.0</td>\n",
       "      <td>3.068966</td>\n",
       "      <td>Other_gene</td>\n",
       "    </tr>\n",
       "  </tbody>\n",
       "</table>\n",
       "<p>9495 rows × 12 columns</p>\n",
       "</div>"
      ],
      "text/plain": [
       "        genes  min_distance_cpg  avg_distance_cpg  min_distance_dna_repair  \\\n",
       "0        ARF5               3.0          4.320611                      3.0   \n",
       "1       COPG1               2.0          4.335878                      3.0   \n",
       "2       COPB1               2.0          4.305344                      3.0   \n",
       "3       COPG2               2.0          4.290076                      3.0   \n",
       "4     ARFGAP1               2.0          4.007634                      2.0   \n",
       "...       ...               ...               ...                      ...   \n",
       "9625     WBP2               2.0          3.610687                      2.0   \n",
       "9626     TEFM               3.0          5.114504                      3.0   \n",
       "9627   DYRK1B               2.0          4.114504                      2.0   \n",
       "9628   ELOA3C               2.0          3.870229                      2.0   \n",
       "9629   ELOA3B               2.0          3.870229                      2.0   \n",
       "\n",
       "      avg_distance_dna_repair  min_distance_pik_mtor  avg_distance_pik_mtor  \\\n",
       "0                    4.444730                    2.0               4.358663   \n",
       "1                    4.655527                    2.0               4.148936   \n",
       "2                    4.611825                    2.0               4.142857   \n",
       "3                    4.632391                    2.0               4.085106   \n",
       "4                    4.123393                    1.0               3.939210   \n",
       "...                       ...                    ...                    ...   \n",
       "9625                 3.840617                    2.0               3.802432   \n",
       "9626                 5.069409                    3.0               5.471125   \n",
       "9627                 4.061697                    2.0               4.422492   \n",
       "9628                 3.922879                    2.0               3.890578   \n",
       "9629                 3.922879                    2.0               3.890578   \n",
       "\n",
       "      min_distance_cell_cycle  avg_distance_cell_cycle  \\\n",
       "0                         2.0                 4.081967   \n",
       "1                         3.0                 4.393443   \n",
       "2                         3.0                 4.393443   \n",
       "3                         3.0                 4.393443   \n",
       "4                         3.0                 3.860656   \n",
       "...                       ...                      ...   \n",
       "9625                      2.0                 3.540984   \n",
       "9626                      3.0                 4.844262   \n",
       "9627                      2.0                 3.737705   \n",
       "9628                      2.0                 3.713115   \n",
       "9629                      2.0                 3.713115   \n",
       "\n",
       "      min_distance_chromatin  avg_distance_chromatin   Gene_Type  \n",
       "0                        4.0                4.655172  Other_gene  \n",
       "1                        4.0                4.896552  Other_gene  \n",
       "2                        4.0                4.655172  Other_gene  \n",
       "3                        4.0                4.655172  Other_gene  \n",
       "4                        4.0                4.551724  Other_gene  \n",
       "...                      ...                     ...         ...  \n",
       "9625                     3.0                3.758621  Other_gene  \n",
       "9626                     4.0                4.896552  Other_gene  \n",
       "9627                     3.0                4.413793  Other_gene  \n",
       "9628                     2.0                3.068966  Other_gene  \n",
       "9629                     2.0                3.068966  Other_gene  \n",
       "\n",
       "[9495 rows x 12 columns]"
      ]
     },
     "execution_count": 137,
     "metadata": {},
     "output_type": "execute_result"
    }
   ],
   "source": [
    "distances[distances['Gene_Type'] == 'Other_gene']"
   ]
  },
  {
   "cell_type": "code",
   "execution_count": 139,
   "metadata": {},
   "outputs": [
    {
     "data": {
      "text/html": [
       "<div>\n",
       "<style scoped>\n",
       "    .dataframe tbody tr th:only-of-type {\n",
       "        vertical-align: middle;\n",
       "    }\n",
       "\n",
       "    .dataframe tbody tr th {\n",
       "        vertical-align: top;\n",
       "    }\n",
       "\n",
       "    .dataframe thead th {\n",
       "        text-align: right;\n",
       "    }\n",
       "</style>\n",
       "<table border=\"1\" class=\"dataframe\">\n",
       "  <thead>\n",
       "    <tr style=\"text-align: right;\">\n",
       "      <th></th>\n",
       "      <th>genes</th>\n",
       "      <th>min_distance_cpg</th>\n",
       "      <th>avg_distance_cpg</th>\n",
       "      <th>min_distance_dna_repair</th>\n",
       "      <th>avg_distance_dna_repair</th>\n",
       "      <th>min_distance_pik_mtor</th>\n",
       "      <th>avg_distance_pik_mtor</th>\n",
       "      <th>min_distance_cell_cycle</th>\n",
       "      <th>avg_distance_cell_cycle</th>\n",
       "      <th>min_distance_chromatin</th>\n",
       "      <th>avg_distance_chromatin</th>\n",
       "      <th>Gene_Type</th>\n",
       "    </tr>\n",
       "  </thead>\n",
       "  <tbody>\n",
       "    <tr>\n",
       "      <th>243</th>\n",
       "      <td>CX3CL1</td>\n",
       "      <td>NaN</td>\n",
       "      <td>NaN</td>\n",
       "      <td>NaN</td>\n",
       "      <td>NaN</td>\n",
       "      <td>NaN</td>\n",
       "      <td>NaN</td>\n",
       "      <td>NaN</td>\n",
       "      <td>NaN</td>\n",
       "      <td>NaN</td>\n",
       "      <td>NaN</td>\n",
       "      <td>Other_gene</td>\n",
       "    </tr>\n",
       "    <tr>\n",
       "      <th>244</th>\n",
       "      <td>CX3CR1</td>\n",
       "      <td>NaN</td>\n",
       "      <td>NaN</td>\n",
       "      <td>NaN</td>\n",
       "      <td>NaN</td>\n",
       "      <td>NaN</td>\n",
       "      <td>NaN</td>\n",
       "      <td>NaN</td>\n",
       "      <td>NaN</td>\n",
       "      <td>NaN</td>\n",
       "      <td>NaN</td>\n",
       "      <td>Other_gene</td>\n",
       "    </tr>\n",
       "    <tr>\n",
       "      <th>336</th>\n",
       "      <td>CPA1</td>\n",
       "      <td>NaN</td>\n",
       "      <td>NaN</td>\n",
       "      <td>NaN</td>\n",
       "      <td>NaN</td>\n",
       "      <td>NaN</td>\n",
       "      <td>NaN</td>\n",
       "      <td>NaN</td>\n",
       "      <td>NaN</td>\n",
       "      <td>NaN</td>\n",
       "      <td>NaN</td>\n",
       "      <td>Other_gene</td>\n",
       "    </tr>\n",
       "    <tr>\n",
       "      <th>337</th>\n",
       "      <td>CTRC</td>\n",
       "      <td>NaN</td>\n",
       "      <td>NaN</td>\n",
       "      <td>NaN</td>\n",
       "      <td>NaN</td>\n",
       "      <td>NaN</td>\n",
       "      <td>NaN</td>\n",
       "      <td>NaN</td>\n",
       "      <td>NaN</td>\n",
       "      <td>NaN</td>\n",
       "      <td>NaN</td>\n",
       "      <td>Other_gene</td>\n",
       "    </tr>\n",
       "    <tr>\n",
       "      <th>505</th>\n",
       "      <td>CHPF2</td>\n",
       "      <td>NaN</td>\n",
       "      <td>NaN</td>\n",
       "      <td>NaN</td>\n",
       "      <td>NaN</td>\n",
       "      <td>NaN</td>\n",
       "      <td>NaN</td>\n",
       "      <td>NaN</td>\n",
       "      <td>NaN</td>\n",
       "      <td>NaN</td>\n",
       "      <td>NaN</td>\n",
       "      <td>Other_gene</td>\n",
       "    </tr>\n",
       "    <tr>\n",
       "      <th>...</th>\n",
       "      <td>...</td>\n",
       "      <td>...</td>\n",
       "      <td>...</td>\n",
       "      <td>...</td>\n",
       "      <td>...</td>\n",
       "      <td>...</td>\n",
       "      <td>...</td>\n",
       "      <td>...</td>\n",
       "      <td>...</td>\n",
       "      <td>...</td>\n",
       "      <td>...</td>\n",
       "      <td>...</td>\n",
       "    </tr>\n",
       "    <tr>\n",
       "      <th>9616</th>\n",
       "      <td>PCDHA7</td>\n",
       "      <td>NaN</td>\n",
       "      <td>NaN</td>\n",
       "      <td>NaN</td>\n",
       "      <td>NaN</td>\n",
       "      <td>NaN</td>\n",
       "      <td>NaN</td>\n",
       "      <td>NaN</td>\n",
       "      <td>NaN</td>\n",
       "      <td>NaN</td>\n",
       "      <td>NaN</td>\n",
       "      <td>Other_gene</td>\n",
       "    </tr>\n",
       "    <tr>\n",
       "      <th>9620</th>\n",
       "      <td>TMEM30B</td>\n",
       "      <td>NaN</td>\n",
       "      <td>NaN</td>\n",
       "      <td>NaN</td>\n",
       "      <td>NaN</td>\n",
       "      <td>NaN</td>\n",
       "      <td>NaN</td>\n",
       "      <td>NaN</td>\n",
       "      <td>NaN</td>\n",
       "      <td>NaN</td>\n",
       "      <td>NaN</td>\n",
       "      <td>Other_gene</td>\n",
       "    </tr>\n",
       "    <tr>\n",
       "      <th>9621</th>\n",
       "      <td>DUX4L4</td>\n",
       "      <td>NaN</td>\n",
       "      <td>NaN</td>\n",
       "      <td>NaN</td>\n",
       "      <td>NaN</td>\n",
       "      <td>NaN</td>\n",
       "      <td>NaN</td>\n",
       "      <td>NaN</td>\n",
       "      <td>NaN</td>\n",
       "      <td>NaN</td>\n",
       "      <td>NaN</td>\n",
       "      <td>Other_gene</td>\n",
       "    </tr>\n",
       "    <tr>\n",
       "      <th>9622</th>\n",
       "      <td>DUX4</td>\n",
       "      <td>NaN</td>\n",
       "      <td>NaN</td>\n",
       "      <td>NaN</td>\n",
       "      <td>NaN</td>\n",
       "      <td>NaN</td>\n",
       "      <td>NaN</td>\n",
       "      <td>NaN</td>\n",
       "      <td>NaN</td>\n",
       "      <td>NaN</td>\n",
       "      <td>NaN</td>\n",
       "      <td>Other_gene</td>\n",
       "    </tr>\n",
       "    <tr>\n",
       "      <th>9623</th>\n",
       "      <td>DUX4L2</td>\n",
       "      <td>NaN</td>\n",
       "      <td>NaN</td>\n",
       "      <td>NaN</td>\n",
       "      <td>NaN</td>\n",
       "      <td>NaN</td>\n",
       "      <td>NaN</td>\n",
       "      <td>NaN</td>\n",
       "      <td>NaN</td>\n",
       "      <td>NaN</td>\n",
       "      <td>NaN</td>\n",
       "      <td>Other_gene</td>\n",
       "    </tr>\n",
       "  </tbody>\n",
       "</table>\n",
       "<p>637 rows × 12 columns</p>\n",
       "</div>"
      ],
      "text/plain": [
       "        genes  min_distance_cpg  avg_distance_cpg  min_distance_dna_repair  \\\n",
       "243    CX3CL1               NaN               NaN                      NaN   \n",
       "244    CX3CR1               NaN               NaN                      NaN   \n",
       "336      CPA1               NaN               NaN                      NaN   \n",
       "337      CTRC               NaN               NaN                      NaN   \n",
       "505     CHPF2               NaN               NaN                      NaN   \n",
       "...       ...               ...               ...                      ...   \n",
       "9616   PCDHA7               NaN               NaN                      NaN   \n",
       "9620  TMEM30B               NaN               NaN                      NaN   \n",
       "9621   DUX4L4               NaN               NaN                      NaN   \n",
       "9622     DUX4               NaN               NaN                      NaN   \n",
       "9623   DUX4L2               NaN               NaN                      NaN   \n",
       "\n",
       "      avg_distance_dna_repair  min_distance_pik_mtor  avg_distance_pik_mtor  \\\n",
       "243                       NaN                    NaN                    NaN   \n",
       "244                       NaN                    NaN                    NaN   \n",
       "336                       NaN                    NaN                    NaN   \n",
       "337                       NaN                    NaN                    NaN   \n",
       "505                       NaN                    NaN                    NaN   \n",
       "...                       ...                    ...                    ...   \n",
       "9616                      NaN                    NaN                    NaN   \n",
       "9620                      NaN                    NaN                    NaN   \n",
       "9621                      NaN                    NaN                    NaN   \n",
       "9622                      NaN                    NaN                    NaN   \n",
       "9623                      NaN                    NaN                    NaN   \n",
       "\n",
       "      min_distance_cell_cycle  avg_distance_cell_cycle  \\\n",
       "243                       NaN                      NaN   \n",
       "244                       NaN                      NaN   \n",
       "336                       NaN                      NaN   \n",
       "337                       NaN                      NaN   \n",
       "505                       NaN                      NaN   \n",
       "...                       ...                      ...   \n",
       "9616                      NaN                      NaN   \n",
       "9620                      NaN                      NaN   \n",
       "9621                      NaN                      NaN   \n",
       "9622                      NaN                      NaN   \n",
       "9623                      NaN                      NaN   \n",
       "\n",
       "      min_distance_chromatin  avg_distance_chromatin   Gene_Type  \n",
       "243                      NaN                     NaN  Other_gene  \n",
       "244                      NaN                     NaN  Other_gene  \n",
       "336                      NaN                     NaN  Other_gene  \n",
       "337                      NaN                     NaN  Other_gene  \n",
       "505                      NaN                     NaN  Other_gene  \n",
       "...                      ...                     ...         ...  \n",
       "9616                     NaN                     NaN  Other_gene  \n",
       "9620                     NaN                     NaN  Other_gene  \n",
       "9621                     NaN                     NaN  Other_gene  \n",
       "9622                     NaN                     NaN  Other_gene  \n",
       "9623                     NaN                     NaN  Other_gene  \n",
       "\n",
       "[637 rows x 12 columns]"
      ]
     },
     "execution_count": 139,
     "metadata": {},
     "output_type": "execute_result"
    }
   ],
   "source": [
    "distances[(distances['avg_distance_cell_cycle'].isnull())]"
   ]
  },
  {
   "cell_type": "code",
   "execution_count": 140,
   "metadata": {},
   "outputs": [
    {
     "data": {
      "text/plain": [
       "0.06631744368779466"
      ]
     },
     "execution_count": 140,
     "metadata": {},
     "output_type": "execute_result"
    }
   ],
   "source": [
    "633 / 9545"
   ]
  },
  {
   "attachments": {},
   "cell_type": "markdown",
   "metadata": {},
   "source": [
    "# STATS"
   ]
  },
  {
   "cell_type": "code",
   "execution_count": 4,
   "metadata": {},
   "outputs": [
    {
     "data": {
      "text/html": [
       "<div>\n",
       "<style scoped>\n",
       "    .dataframe tbody tr th:only-of-type {\n",
       "        vertical-align: middle;\n",
       "    }\n",
       "\n",
       "    .dataframe tbody tr th {\n",
       "        vertical-align: top;\n",
       "    }\n",
       "\n",
       "    .dataframe thead th {\n",
       "        text-align: right;\n",
       "    }\n",
       "</style>\n",
       "<table border=\"1\" class=\"dataframe\">\n",
       "  <thead>\n",
       "    <tr style=\"text-align: right;\">\n",
       "      <th></th>\n",
       "      <th>genes</th>\n",
       "      <th>min_distance_cpg</th>\n",
       "      <th>avg_distance_cpg</th>\n",
       "      <th>min_distance_dna_repair</th>\n",
       "      <th>avg_distance_dna_repair</th>\n",
       "      <th>min_distance_pik_mtor</th>\n",
       "      <th>avg_distance_pik_mtor</th>\n",
       "      <th>min_distance_cell_cycle</th>\n",
       "      <th>avg_distance_cell_cycle</th>\n",
       "      <th>min_distance_chromatin</th>\n",
       "      <th>avg_distance_chromatin</th>\n",
       "      <th>min_distance_all</th>\n",
       "      <th>avg_distance_all</th>\n",
       "      <th>Gene_Type</th>\n",
       "    </tr>\n",
       "  </thead>\n",
       "  <tbody>\n",
       "    <tr>\n",
       "      <th>0</th>\n",
       "      <td>ARF5</td>\n",
       "      <td>3.0</td>\n",
       "      <td>4.320611</td>\n",
       "      <td>3.0</td>\n",
       "      <td>4.444730</td>\n",
       "      <td>2.0</td>\n",
       "      <td>4.358663</td>\n",
       "      <td>2.0</td>\n",
       "      <td>4.081967</td>\n",
       "      <td>4.0</td>\n",
       "      <td>4.655172</td>\n",
       "      <td>2.0</td>\n",
       "      <td>4.419695</td>\n",
       "      <td>Other_gene</td>\n",
       "    </tr>\n",
       "    <tr>\n",
       "      <th>1</th>\n",
       "      <td>COPG1</td>\n",
       "      <td>2.0</td>\n",
       "      <td>4.335878</td>\n",
       "      <td>3.0</td>\n",
       "      <td>4.655527</td>\n",
       "      <td>2.0</td>\n",
       "      <td>4.148936</td>\n",
       "      <td>3.0</td>\n",
       "      <td>4.393443</td>\n",
       "      <td>4.0</td>\n",
       "      <td>4.896552</td>\n",
       "      <td>2.0</td>\n",
       "      <td>4.439625</td>\n",
       "      <td>Other_gene</td>\n",
       "    </tr>\n",
       "    <tr>\n",
       "      <th>2</th>\n",
       "      <td>COPB1</td>\n",
       "      <td>2.0</td>\n",
       "      <td>4.305344</td>\n",
       "      <td>3.0</td>\n",
       "      <td>4.611825</td>\n",
       "      <td>2.0</td>\n",
       "      <td>4.142857</td>\n",
       "      <td>3.0</td>\n",
       "      <td>4.393443</td>\n",
       "      <td>4.0</td>\n",
       "      <td>4.655172</td>\n",
       "      <td>2.0</td>\n",
       "      <td>4.416178</td>\n",
       "      <td>Other_gene</td>\n",
       "    </tr>\n",
       "    <tr>\n",
       "      <th>3</th>\n",
       "      <td>COPG2</td>\n",
       "      <td>2.0</td>\n",
       "      <td>4.290076</td>\n",
       "      <td>3.0</td>\n",
       "      <td>4.632391</td>\n",
       "      <td>2.0</td>\n",
       "      <td>4.085106</td>\n",
       "      <td>3.0</td>\n",
       "      <td>4.393443</td>\n",
       "      <td>4.0</td>\n",
       "      <td>4.655172</td>\n",
       "      <td>2.0</td>\n",
       "      <td>4.398593</td>\n",
       "      <td>Other_gene</td>\n",
       "    </tr>\n",
       "    <tr>\n",
       "      <th>4</th>\n",
       "      <td>ARFGAP1</td>\n",
       "      <td>2.0</td>\n",
       "      <td>4.007634</td>\n",
       "      <td>2.0</td>\n",
       "      <td>4.123393</td>\n",
       "      <td>1.0</td>\n",
       "      <td>3.939210</td>\n",
       "      <td>3.0</td>\n",
       "      <td>3.860656</td>\n",
       "      <td>4.0</td>\n",
       "      <td>4.551724</td>\n",
       "      <td>1.0</td>\n",
       "      <td>4.056272</td>\n",
       "      <td>Other_gene</td>\n",
       "    </tr>\n",
       "  </tbody>\n",
       "</table>\n",
       "</div>"
      ],
      "text/plain": [
       "     genes  min_distance_cpg  avg_distance_cpg  min_distance_dna_repair  \\\n",
       "0     ARF5               3.0          4.320611                      3.0   \n",
       "1    COPG1               2.0          4.335878                      3.0   \n",
       "2    COPB1               2.0          4.305344                      3.0   \n",
       "3    COPG2               2.0          4.290076                      3.0   \n",
       "4  ARFGAP1               2.0          4.007634                      2.0   \n",
       "\n",
       "   avg_distance_dna_repair  min_distance_pik_mtor  avg_distance_pik_mtor  \\\n",
       "0                 4.444730                    2.0               4.358663   \n",
       "1                 4.655527                    2.0               4.148936   \n",
       "2                 4.611825                    2.0               4.142857   \n",
       "3                 4.632391                    2.0               4.085106   \n",
       "4                 4.123393                    1.0               3.939210   \n",
       "\n",
       "   min_distance_cell_cycle  avg_distance_cell_cycle  min_distance_chromatin  \\\n",
       "0                      2.0                 4.081967                     4.0   \n",
       "1                      3.0                 4.393443                     4.0   \n",
       "2                      3.0                 4.393443                     4.0   \n",
       "3                      3.0                 4.393443                     4.0   \n",
       "4                      3.0                 3.860656                     4.0   \n",
       "\n",
       "   avg_distance_chromatin  min_distance_all  avg_distance_all   Gene_Type  \n",
       "0                4.655172               2.0          4.419695  Other_gene  \n",
       "1                4.896552               2.0          4.439625  Other_gene  \n",
       "2                4.655172               2.0          4.416178  Other_gene  \n",
       "3                4.655172               2.0          4.398593  Other_gene  \n",
       "4                4.551724               1.0          4.056272  Other_gene  "
      ]
     },
     "execution_count": 4,
     "metadata": {},
     "output_type": "execute_result"
    }
   ],
   "source": [
    "distances = pd.read_csv('/home/amaqueda/TFM/ML_project/PPI_interactions/output/distances.all.gene_type.5.tsv', sep = '\\t', header = 0)\n",
    "distances.head()"
   ]
  },
  {
   "cell_type": "code",
   "execution_count": 174,
   "metadata": {},
   "outputs": [
    {
     "name": "stdout",
     "output_type": "stream",
     "text": [
      "KstestResult(statistic=0.9863671352857697, pvalue=8.54955227227457e-245, statistic_location=2.207692307692308, statistic_sign=-1)\n",
      "KstestResult(statistic=0.9926156634517791, pvalue=0.0, statistic_location=2.50381679389313, statistic_sign=-1)\n",
      "KstestResult(statistic=0.984099665504194, pvalue=4.8445132164706845e-236, statistic_location=2.1469072164948453, statistic_sign=-1)\n",
      "KstestResult(statistic=0.9918387077911847, pvalue=0.0, statistic_location=2.560411311053985, statistic_sign=-1)\n",
      "KstestResult(statistic=0.9872833172369061, pvalue=9.418954101765538e-249, statistic_location=2.234756097560976, statistic_sign=-1)\n",
      "KstestResult(statistic=0.9907540765029308, pvalue=0.0, statistic_location=2.481707317073171, statistic_sign=-1)\n",
      "KstestResult(statistic=0.9707919282856067, pvalue=1.9138508799901448e-201, statistic_location=1.8925619834710743, statistic_sign=-1)\n",
      "KstestResult(statistic=0.9826798263839329, pvalue=0.0, statistic_location=2.2459016393442623, statistic_sign=-1)\n",
      "KstestResult(statistic=0.9328884974504418, pvalue=4.088391423503797e-154, statistic_location=1.896551724137931, statistic_sign=-1)\n",
      "KstestResult(statistic=0.9705854265068399, pvalue=0.0, statistic_location=2.034482758620689, statistic_sign=-1)\n",
      "KstestResult(statistic=0.9890882897833341, pvalue=1.8407292861329565e-257, statistic_location=2.2934272300469485, statistic_sign=-1)\n",
      "KstestResult(statistic=0.9942420716976648, pvalue=0.0, statistic_location=2.637323943661972, statistic_sign=-1)\n"
     ]
    }
   ],
   "source": [
    "print(stats.kstest(distances[~distances['avg_distance_cpg'].isnull() & (distances['Gene_Type'] == 'CPG')]['avg_distance_cpg'], 'norm'))\n",
    "print(stats.kstest(distances[~distances['avg_distance_cpg'].isnull() & (distances['Gene_Type'] == 'Other_gene')]['avg_distance_cpg'], 'norm'))\n",
    "\n",
    "print(stats.kstest(distances[~distances['avg_distance_dna_repair'].isnull() & (distances['Gene_Type'] == 'CPG')]['avg_distance_dna_repair'], 'norm'))\n",
    "print(stats.kstest(distances[~distances['avg_distance_dna_repair'].isnull() & (distances['Gene_Type'] == 'Other_gene')]['avg_distance_dna_repair'], 'norm'))\n",
    "\n",
    "print(stats.kstest(distances[~distances['avg_distance_pik_mtor'].isnull() & (distances['Gene_Type'] == 'CPG')]['avg_distance_pik_mtor'], 'norm'))\n",
    "print(stats.kstest(distances[~distances['avg_distance_pik_mtor'].isnull() & (distances['Gene_Type'] == 'Other_gene')]['avg_distance_pik_mtor'], 'norm'))\n",
    "\n",
    "print(stats.kstest(distances[~distances['avg_distance_cell_cycle'].isnull() & (distances['Gene_Type'] == 'CPG')]['avg_distance_cell_cycle'], 'norm'))\n",
    "print(stats.kstest(distances[~distances['avg_distance_cell_cycle'].isnull() & (distances['Gene_Type'] == 'Other_gene')]['avg_distance_cell_cycle'], 'norm'))\n",
    "\n",
    "print(stats.kstest(distances[~distances['avg_distance_chromatin'].isnull() & (distances['Gene_Type'] == 'CPG')]['avg_distance_chromatin'], 'norm'))\n",
    "print(stats.kstest(distances[~distances['avg_distance_chromatin'].isnull() & (distances['Gene_Type'] == 'Other_gene')]['avg_distance_chromatin'], 'norm'))\n",
    "\n",
    "print(stats.kstest(distances[~distances['avg_distance_all'].isnull() & (distances['Gene_Type'] == 'CPG')]['avg_distance_all'], 'norm'))\n",
    "print(stats.kstest(distances[~distances['avg_distance_all'].isnull() & (distances['Gene_Type'] == 'Other_gene')]['avg_distance_all'], 'norm'))"
   ]
  },
  {
   "attachments": {},
   "cell_type": "markdown",
   "metadata": {},
   "source": [
    "#### My data doesn't fit to a normal distribution"
   ]
  },
  {
   "cell_type": "code",
   "execution_count": 178,
   "metadata": {},
   "outputs": [
    {
     "data": {
      "text/plain": [
       "MannwhitneyuResult(statistic=211110.0, pvalue=5.6985787103351606e-36)"
      ]
     },
     "execution_count": 178,
     "metadata": {},
     "output_type": "execute_result"
    }
   ],
   "source": [
    "stats.mannwhitneyu(x = distances[~distances['avg_distance_cpg'].isnull() & (distances['Gene_Type'] == 'CPG')]['avg_distance_cpg'],\n",
    "                   y = distances[~distances['avg_distance_cpg'].isnull() & (distances['Gene_Type'] == 'Other_gene')]['avg_distance_cpg'])"
   ]
  },
  {
   "cell_type": "code",
   "execution_count": 181,
   "metadata": {},
   "outputs": [
    {
     "data": {
      "text/plain": [
       "MannwhitneyuResult(statistic=221156.5, pvalue=3.934966332899057e-34)"
      ]
     },
     "execution_count": 181,
     "metadata": {},
     "output_type": "execute_result"
    }
   ],
   "source": [
    "stats.mannwhitneyu(x = distances[~distances['avg_distance_dna_repair'].isnull() & (distances['Gene_Type'] == 'CPG')]['avg_distance_dna_repair'],\n",
    "                   y = distances[~distances['avg_distance_dna_repair'].isnull() & (distances['Gene_Type'] == 'Other_gene')]['avg_distance_dna_repair'])"
   ]
  },
  {
   "cell_type": "code",
   "execution_count": 182,
   "metadata": {},
   "outputs": [
    {
     "data": {
      "text/plain": [
       "MannwhitneyuResult(statistic=308181.0, pvalue=2.6920672788730587e-20)"
      ]
     },
     "execution_count": 182,
     "metadata": {},
     "output_type": "execute_result"
    }
   ],
   "source": [
    "stats.mannwhitneyu(x = distances[~distances['avg_distance_pik_mtor'].isnull() & (distances['Gene_Type'] == 'CPG')]['avg_distance_pik_mtor'],\n",
    "                   y = distances[~distances['avg_distance_pik_mtor'].isnull() & (distances['Gene_Type'] == 'Other_gene')]['avg_distance_pik_mtor'])"
   ]
  },
  {
   "cell_type": "code",
   "execution_count": 183,
   "metadata": {},
   "outputs": [
    {
     "data": {
      "text/plain": [
       "MannwhitneyuResult(statistic=223462.0, pvalue=1.0219423690830059e-33)"
      ]
     },
     "execution_count": 183,
     "metadata": {},
     "output_type": "execute_result"
    }
   ],
   "source": [
    "stats.mannwhitneyu(x = distances[~distances['avg_distance_cell_cycle'].isnull() & (distances['Gene_Type'] == 'CPG')]['avg_distance_cell_cycle'],\n",
    "                   y = distances[~distances['avg_distance_cell_cycle'].isnull() & (distances['Gene_Type'] == 'Other_gene')]['avg_distance_cell_cycle'])"
   ]
  },
  {
   "cell_type": "code",
   "execution_count": 184,
   "metadata": {},
   "outputs": [
    {
     "data": {
      "text/plain": [
       "MannwhitneyuResult(statistic=266626.5, pvalue=1.908923201154862e-26)"
      ]
     },
     "execution_count": 184,
     "metadata": {},
     "output_type": "execute_result"
    }
   ],
   "source": [
    "stats.mannwhitneyu(x = distances[~distances['avg_distance_chromatin'].isnull() & (distances['Gene_Type'] == 'CPG')]['avg_distance_chromatin'],\n",
    "                   y = distances[~distances['avg_distance_chromatin'].isnull() & (distances['Gene_Type'] == 'Other_gene')]['avg_distance_chromatin'])"
   ]
  },
  {
   "cell_type": "code",
   "execution_count": 185,
   "metadata": {},
   "outputs": [
    {
     "data": {
      "text/plain": [
       "MannwhitneyuResult(statistic=223335.5, pvalue=9.7091453891632e-34)"
      ]
     },
     "execution_count": 185,
     "metadata": {},
     "output_type": "execute_result"
    }
   ],
   "source": [
    "stats.mannwhitneyu(x = distances[~distances['avg_distance_all'].isnull() & (distances['Gene_Type'] == 'CPG')]['avg_distance_all'],\n",
    "                   y = distances[~distances['avg_distance_all'].isnull() & (distances['Gene_Type'] == 'Other_gene')]['avg_distance_all'])"
   ]
  }
 ],
 "metadata": {
  "kernelspec": {
   "display_name": "TFM",
   "language": "python",
   "name": "python3"
  },
  "language_info": {
   "codemirror_mode": {
    "name": "ipython",
    "version": 3
   },
   "file_extension": ".py",
   "mimetype": "text/x-python",
   "name": "python",
   "nbconvert_exporter": "python",
   "pygments_lexer": "ipython3",
   "version": "3.11.0"
  },
  "orig_nbformat": 4,
  "vscode": {
   "interpreter": {
    "hash": "7797d90376d55223d6ab88514fe7aa0eccb247be242d5089e08e2c9be4495b7f"
   }
  }
 },
 "nbformat": 4,
 "nbformat_minor": 2
}
